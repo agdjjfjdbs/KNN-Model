{
  "cells": [
    {
      "cell_type": "markdown",
      "id": "2f0fa3ca",
      "metadata": {
        "id": "2f0fa3ca"
      },
      "source": [
        "# Importing needed libraries\n",
        "\n"
      ]
    },
    {
      "cell_type": "code",
      "execution_count": 57,
      "id": "9229e54e",
      "metadata": {
        "id": "9229e54e"
      },
      "outputs": [],
      "source": [
        "import numpy as np\n",
        "import pandas as pd\n",
        "import matplotlib.pyplot as plt\n",
        "from sklearn.preprocessing import PolynomialFeatures\n",
        "from sklearn.preprocessing import LabelBinarizer\n",
        "from sklearn.preprocessing import MinMaxScaler\n",
        "from sklearn.neighbors import KNeighborsClassifier\n",
        "import seaborn as sns"
      ]
    },
    {
      "cell_type": "markdown",
      "id": "75ea3e5c",
      "metadata": {
        "id": "75ea3e5c"
      },
      "source": [
        "\n",
        "\n",
        "# loading data and discover it\n"
      ]
    },
    {
      "cell_type": "code",
      "execution_count": 58,
      "id": "3c95dba3",
      "metadata": {
        "colab": {
          "base_uri": "https://localhost:8080/",
          "height": 429
        },
        "id": "3c95dba3",
        "outputId": "61ffc233-272b-4d62-b75e-528daa402055"
      },
      "outputs": [
        {
          "data": {
            "text/html": [
              "<div>\n",
              "<style scoped>\n",
              "    .dataframe tbody tr th:only-of-type {\n",
              "        vertical-align: middle;\n",
              "    }\n",
              "\n",
              "    .dataframe tbody tr th {\n",
              "        vertical-align: top;\n",
              "    }\n",
              "\n",
              "    .dataframe thead th {\n",
              "        text-align: right;\n",
              "    }\n",
              "</style>\n",
              "<table border=\"1\" class=\"dataframe\">\n",
              "  <thead>\n",
              "    <tr style=\"text-align: right;\">\n",
              "      <th></th>\n",
              "      <th>Timestamp</th>\n",
              "      <th>Age</th>\n",
              "      <th>Gender</th>\n",
              "      <th>Country</th>\n",
              "      <th>state</th>\n",
              "      <th>self_employed</th>\n",
              "      <th>family_history</th>\n",
              "      <th>treatment</th>\n",
              "      <th>work_interfere</th>\n",
              "      <th>no_employees</th>\n",
              "      <th>...</th>\n",
              "      <th>leave</th>\n",
              "      <th>mental_health_consequence</th>\n",
              "      <th>phys_health_consequence</th>\n",
              "      <th>coworkers</th>\n",
              "      <th>supervisor</th>\n",
              "      <th>mental_health_interview</th>\n",
              "      <th>phys_health_interview</th>\n",
              "      <th>mental_vs_physical</th>\n",
              "      <th>obs_consequence</th>\n",
              "      <th>comments</th>\n",
              "    </tr>\n",
              "  </thead>\n",
              "  <tbody>\n",
              "    <tr>\n",
              "      <th>0</th>\n",
              "      <td>2014-08-27 11:29:31</td>\n",
              "      <td>37</td>\n",
              "      <td>Female</td>\n",
              "      <td>United States</td>\n",
              "      <td>IL</td>\n",
              "      <td>NaN</td>\n",
              "      <td>No</td>\n",
              "      <td>Yes</td>\n",
              "      <td>Often</td>\n",
              "      <td>6-25</td>\n",
              "      <td>...</td>\n",
              "      <td>Somewhat easy</td>\n",
              "      <td>No</td>\n",
              "      <td>No</td>\n",
              "      <td>Some of them</td>\n",
              "      <td>Yes</td>\n",
              "      <td>No</td>\n",
              "      <td>Maybe</td>\n",
              "      <td>Yes</td>\n",
              "      <td>No</td>\n",
              "      <td>NaN</td>\n",
              "    </tr>\n",
              "    <tr>\n",
              "      <th>1</th>\n",
              "      <td>2014-08-27 11:29:37</td>\n",
              "      <td>44</td>\n",
              "      <td>M</td>\n",
              "      <td>United States</td>\n",
              "      <td>IN</td>\n",
              "      <td>NaN</td>\n",
              "      <td>No</td>\n",
              "      <td>No</td>\n",
              "      <td>Rarely</td>\n",
              "      <td>More than 1000</td>\n",
              "      <td>...</td>\n",
              "      <td>Don't know</td>\n",
              "      <td>Maybe</td>\n",
              "      <td>No</td>\n",
              "      <td>No</td>\n",
              "      <td>No</td>\n",
              "      <td>No</td>\n",
              "      <td>No</td>\n",
              "      <td>Don't know</td>\n",
              "      <td>No</td>\n",
              "      <td>NaN</td>\n",
              "    </tr>\n",
              "    <tr>\n",
              "      <th>2</th>\n",
              "      <td>2014-08-27 11:29:44</td>\n",
              "      <td>32</td>\n",
              "      <td>Male</td>\n",
              "      <td>Canada</td>\n",
              "      <td>NaN</td>\n",
              "      <td>NaN</td>\n",
              "      <td>No</td>\n",
              "      <td>No</td>\n",
              "      <td>Rarely</td>\n",
              "      <td>6-25</td>\n",
              "      <td>...</td>\n",
              "      <td>Somewhat difficult</td>\n",
              "      <td>No</td>\n",
              "      <td>No</td>\n",
              "      <td>Yes</td>\n",
              "      <td>Yes</td>\n",
              "      <td>Yes</td>\n",
              "      <td>Yes</td>\n",
              "      <td>No</td>\n",
              "      <td>No</td>\n",
              "      <td>NaN</td>\n",
              "    </tr>\n",
              "    <tr>\n",
              "      <th>3</th>\n",
              "      <td>2014-08-27 11:29:46</td>\n",
              "      <td>31</td>\n",
              "      <td>Male</td>\n",
              "      <td>United Kingdom</td>\n",
              "      <td>NaN</td>\n",
              "      <td>NaN</td>\n",
              "      <td>Yes</td>\n",
              "      <td>Yes</td>\n",
              "      <td>Often</td>\n",
              "      <td>26-100</td>\n",
              "      <td>...</td>\n",
              "      <td>Somewhat difficult</td>\n",
              "      <td>Yes</td>\n",
              "      <td>Yes</td>\n",
              "      <td>Some of them</td>\n",
              "      <td>No</td>\n",
              "      <td>Maybe</td>\n",
              "      <td>Maybe</td>\n",
              "      <td>No</td>\n",
              "      <td>Yes</td>\n",
              "      <td>NaN</td>\n",
              "    </tr>\n",
              "    <tr>\n",
              "      <th>4</th>\n",
              "      <td>2014-08-27 11:30:22</td>\n",
              "      <td>31</td>\n",
              "      <td>Male</td>\n",
              "      <td>United States</td>\n",
              "      <td>TX</td>\n",
              "      <td>NaN</td>\n",
              "      <td>No</td>\n",
              "      <td>No</td>\n",
              "      <td>Never</td>\n",
              "      <td>100-500</td>\n",
              "      <td>...</td>\n",
              "      <td>Don't know</td>\n",
              "      <td>No</td>\n",
              "      <td>No</td>\n",
              "      <td>Some of them</td>\n",
              "      <td>Yes</td>\n",
              "      <td>Yes</td>\n",
              "      <td>Yes</td>\n",
              "      <td>Don't know</td>\n",
              "      <td>No</td>\n",
              "      <td>NaN</td>\n",
              "    </tr>\n",
              "  </tbody>\n",
              "</table>\n",
              "<p>5 rows × 27 columns</p>\n",
              "</div>"
            ],
            "text/plain": [
              "             Timestamp  Age  Gender         Country state self_employed  \\\n",
              "0  2014-08-27 11:29:31   37  Female   United States    IL           NaN   \n",
              "1  2014-08-27 11:29:37   44       M   United States    IN           NaN   \n",
              "2  2014-08-27 11:29:44   32    Male          Canada   NaN           NaN   \n",
              "3  2014-08-27 11:29:46   31    Male  United Kingdom   NaN           NaN   \n",
              "4  2014-08-27 11:30:22   31    Male   United States    TX           NaN   \n",
              "\n",
              "  family_history treatment work_interfere    no_employees  ...  \\\n",
              "0             No       Yes          Often            6-25  ...   \n",
              "1             No        No         Rarely  More than 1000  ...   \n",
              "2             No        No         Rarely            6-25  ...   \n",
              "3            Yes       Yes          Often          26-100  ...   \n",
              "4             No        No          Never         100-500  ...   \n",
              "\n",
              "                leave mental_health_consequence phys_health_consequence  \\\n",
              "0       Somewhat easy                        No                      No   \n",
              "1          Don't know                     Maybe                      No   \n",
              "2  Somewhat difficult                        No                      No   \n",
              "3  Somewhat difficult                       Yes                     Yes   \n",
              "4          Don't know                        No                      No   \n",
              "\n",
              "      coworkers supervisor mental_health_interview phys_health_interview  \\\n",
              "0  Some of them        Yes                      No                 Maybe   \n",
              "1            No         No                      No                    No   \n",
              "2           Yes        Yes                     Yes                   Yes   \n",
              "3  Some of them         No                   Maybe                 Maybe   \n",
              "4  Some of them        Yes                     Yes                   Yes   \n",
              "\n",
              "  mental_vs_physical obs_consequence comments  \n",
              "0                Yes              No      NaN  \n",
              "1         Don't know              No      NaN  \n",
              "2                 No              No      NaN  \n",
              "3                 No             Yes      NaN  \n",
              "4         Don't know              No      NaN  \n",
              "\n",
              "[5 rows x 27 columns]"
            ]
          },
          "execution_count": 58,
          "metadata": {},
          "output_type": "execute_result"
        }
      ],
      "source": [
        "data = pd.read_csv('survey.csv')\n",
        "data.head(5)"
      ]
    },
    {
      "cell_type": "code",
      "execution_count": 59,
      "id": "117249eb",
      "metadata": {
        "colab": {
          "base_uri": "https://localhost:8080/"
        },
        "id": "117249eb",
        "outputId": "4bf034fe-d2dd-4c31-cff8-325063a14fcb"
      },
      "outputs": [
        {
          "data": {
            "text/plain": [
              "Index(['Timestamp', 'Age', 'Gender', 'Country', 'state', 'self_employed',\n",
              "       'family_history', 'treatment', 'work_interfere', 'no_employees',\n",
              "       'remote_work', 'tech_company', 'benefits', 'care_options',\n",
              "       'wellness_program', 'seek_help', 'anonymity', 'leave',\n",
              "       'mental_health_consequence', 'phys_health_consequence', 'coworkers',\n",
              "       'supervisor', 'mental_health_interview', 'phys_health_interview',\n",
              "       'mental_vs_physical', 'obs_consequence', 'comments'],\n",
              "      dtype='object')"
            ]
          },
          "execution_count": 59,
          "metadata": {},
          "output_type": "execute_result"
        }
      ],
      "source": [
        "#saving columns names and number of them\n",
        "n_cols = data.shape[1]\n",
        "col_names = data.columns\n",
        "col_names"
      ]
    },
    {
      "cell_type": "markdown",
      "id": "faa8a62c",
      "metadata": {
        "id": "faa8a62c"
      },
      "source": [
        "####  we see that column names form are inconsistent , there are nan values , and a lot of strings so that must be edited in cleaning data"
      ]
    },
    {
      "cell_type": "markdown",
      "id": "ccb6b581",
      "metadata": {
        "id": "ccb6b581"
      },
      "source": [
        "## Let's take a look at the data\n",
        "first we can figure out the spread of age values"
      ]
    },
    {
      "cell_type": "code",
      "execution_count": 60,
      "id": "15f22466",
      "metadata": {
        "colab": {
          "base_uri": "https://localhost:8080/",
          "height": 313
        },
        "id": "15f22466",
        "outputId": "44fa1fcc-9f84-4a54-b695-4b65b3a4d557"
      },
      "outputs": [
        {
          "data": {
            "text/plain": [
              "<Axes: >"
            ]
          },
          "execution_count": 60,
          "metadata": {},
          "output_type": "execute_result"
        },
        {
          "data": {
            "image/png": "[encoded data removed]",
            "text/plain": [
              "<Figure size 2500x600 with 1 Axes>"
            ]
          },
          "metadata": {},
          "output_type": "display_data"
        }
      ],
      "source": [
        "plt.figure(figsize=(25,6))\n",
        "\n",
        "# we will used value_count() to know the number of rows for each value on the dataset\n",
        "age_counts = data['Age'].value_counts()\n",
        "\n",
        "sns.barplot(x=age_counts.index, y=age_counts.values)\n",
        "#sns.lineplot(data=data,y='treatment',x='Country')"
      ]
    },
    {
      "cell_type": "markdown",
      "id": "0027df61",
      "metadata": {
        "id": "0027df61"
      },
      "source": [
        "### treatment will be our target so let's figure it out"
      ]
    },
    {
      "cell_type": "code",
      "execution_count": 61,
      "id": "6f2307ee",
      "metadata": {
        "colab": {
          "base_uri": "https://localhost:8080/",
          "height": 466
        },
        "id": "6f2307ee",
        "outputId": "dd049050-fed4-4ad4-c5b3-d70f1353938e"
      },
      "outputs": [
        {
          "data": {
            "text/plain": [
              "<Axes: xlabel='treatment'>"
            ]
          },
          "execution_count": 61,
          "metadata": {},
          "output_type": "execute_result"
        },
        {
          "data": {
            "image/png": "[encoded data removed]",
            "text/plain": [
              "<Figure size 640x480 with 1 Axes>"
            ]
          },
          "metadata": {},
          "output_type": "display_data"
        }
      ],
      "source": [
        "sns.barplot(y=data.index, x=data['treatment'])"
      ]
    },
    {
      "cell_type": "markdown",
      "id": "a4a89c79",
      "metadata": {
        "id": "a4a89c79"
      },
      "source": [
        " okay, it's clear that most of people in this sample have sought a treatment for a mental health condition"
      ]
    },
    {
      "cell_type": "markdown",
      "id": "75e0bb1f",
      "metadata": {
        "id": "75e0bb1f"
      },
      "source": [
        "### let's plot some columns to see thier values and percentage"
      ]
    },
    {
      "cell_type": "code",
      "execution_count": 62,
      "id": "9decb3ef",
      "metadata": {
        "colab": {
          "base_uri": "https://localhost:8080/",
          "height": 396
        },
        "id": "9decb3ef",
        "outputId": "183894b0-d633-4d1a-d20c-0acb3e8b8051"
      },
      "outputs": [
        {
          "data": {
            "image/png": "[encoded data removed]",
            "text/plain": [
              "<Figure size 2500x800 with 10 Axes>"
            ]
          },
          "metadata": {},
          "output_type": "display_data"
        }
      ],
      "source": [
        "include_cols = ['self_employed',\n",
        "       'family_history', 'treatment', 'work_interfere',\n",
        "       'remote_work', 'tech_company', 'benefits', 'care_options',\n",
        "       'wellness_program', 'seek_help']\n",
        "\n",
        "fig, axs = plt.subplots(2, 5, figsize=(25, 8))\n",
        "\n",
        "# Loop over each column in include_cols and plot it\n",
        "for i, col in enumerate(include_cols):\n",
        "    row = i // 5\n",
        "    col = i % 5\n",
        "    '''as we create the figure size like a matrix with 2 rows and 5 columns\n",
        "    we need to know the index of each figure by row and column so it will be updated each iteration'''\n",
        "\n",
        "    # we will used value_count() to know the number of rows for each value on the dataset as we mentioned before\n",
        "    counts = data[include_cols[i]].value_counts()\n",
        "\n",
        "\n",
        "    axs[row, col].bar(counts.index, counts.values)\n",
        "    axs[row, col].set_title(include_cols[i])\n",
        "\n",
        "# making a space between plots\n",
        "plt.subplots_adjust(hspace=0.5, wspace=0.2)\n",
        "\n",
        "plt.show()"
      ]
    },
    {
      "cell_type": "markdown",
      "id": "f221dba3",
      "metadata": {
        "id": "f221dba3"
      },
      "source": [
        "# Cleaning Data\n",
        "as we see before , the data is not clean so we need to prepare data for analysis by removing or modifying data that is incorrect, incomplete, irrelevant, duplicated, or improperly formatted\n",
        "\n",
        "this will be done within severel ways so let's starts"
      ]
    },
    {
      "cell_type": "markdown",
      "id": "74704400",
      "metadata": {
        "id": "74704400"
      },
      "source": [
        "## 1- drop unneeded columns\n"
      ]
    },
    {
      "cell_type": "code",
      "execution_count": 63,
      "id": "4c30dbf8",
      "metadata": {
        "id": "4c30dbf8"
      },
      "outputs": [],
      "source": [
        "data = data.drop(['state','Country','Timestamp','comments'],axis=1)"
      ]
    },
    {
      "cell_type": "code",
      "execution_count": 64,
      "id": "a68bef4d",
      "metadata": {
        "colab": {
          "base_uri": "https://localhost:8080/"
        },
        "id": "a68bef4d",
        "outputId": "e421b8b9-3011-4217-b3ed-ccd6f142065d"
      },
      "outputs": [
        {
          "data": {
            "text/plain": [
              "Index(['Age', 'Gender', 'self_employed', 'family_history', 'treatment',\n",
              "       'work_interfere', 'no_employees', 'remote_work', 'tech_company',\n",
              "       'benefits', 'care_options', 'wellness_program', 'seek_help',\n",
              "       'anonymity', 'leave', 'mental_health_consequence',\n",
              "       'phys_health_consequence', 'coworkers', 'supervisor',\n",
              "       'mental_health_interview', 'phys_health_interview',\n",
              "       'mental_vs_physical', 'obs_consequence'],\n",
              "      dtype='object')"
            ]
          },
          "execution_count": 64,
          "metadata": {},
          "output_type": "execute_result"
        }
      ],
      "source": [
        "#saving the new column names and number\n",
        "n_cols = data.shape[1]\n",
        "col_names = data.columns\n",
        "col_names"
      ]
    },
    {
      "cell_type": "code",
      "execution_count": 65,
      "id": "b7893228",
      "metadata": {
        "colab": {
          "base_uri": "https://localhost:8080/"
        },
        "id": "b7893228",
        "outputId": "53bc9196-4c8c-4d9d-c42c-45286c050250"
      },
      "outputs": [
        {
          "data": {
            "text/plain": [
              "23"
            ]
          },
          "execution_count": 65,
          "metadata": {},
          "output_type": "execute_result"
        }
      ],
      "source": [
        "n_cols"
      ]
    },
    {
      "cell_type": "markdown",
      "id": "639ff195",
      "metadata": {
        "id": "639ff195"
      },
      "source": [
        "## 2- set the labels of the columns\n"
      ]
    },
    {
      "cell_type": "code",
      "execution_count": 66,
      "id": "fb5a5ae0",
      "metadata": {
        "colab": {
          "base_uri": "https://localhost:8080/"
        },
        "id": "fb5a5ae0",
        "outputId": "cfc85d30-6773-4b64-bff0-8a481bfd622e"
      },
      "outputs": [
        {
          "data": {
            "text/plain": [
              "Index(['age', 'gender', 'self_employed', 'family_history', 'treatment',\n",
              "       'work_interfere', 'no_employees', 'remote_work', 'tech_company',\n",
              "       'benefits', 'care_options', 'wellness_program', 'seek_help',\n",
              "       'anonymity', 'leave', 'mental_health_consequence',\n",
              "       'phys_health_consequence', 'coworkers', 'supervisor',\n",
              "       'mental_health_interview', 'phys_health_interview',\n",
              "       'mental_vs_physical', 'obs_consequence'],\n",
              "      dtype='object')"
            ]
          },
          "execution_count": 66,
          "metadata": {},
          "output_type": "execute_result"
        }
      ],
      "source": [
        "#for loop within all cols we saved before to make it all lowercase\n",
        "for col in col_names :\n",
        "    data.rename(columns={col: col.lower()}, inplace=True)\n",
        "col_names = data.columns\n",
        "col_names"
      ]
    },
    {
      "cell_type": "markdown",
      "id": "81443368",
      "metadata": {
        "id": "81443368"
      },
      "source": [
        "now no inconsistent column names"
      ]
    },
    {
      "cell_type": "markdown",
      "id": "9648eb8f",
      "metadata": {
        "id": "9648eb8f"
      },
      "source": [
        "## 3-  Handling Missing Values"
      ]
    },
    {
      "cell_type": "code",
      "execution_count": 67,
      "id": "09318481",
      "metadata": {
        "colab": {
          "base_uri": "https://localhost:8080/"
        },
        "id": "09318481",
        "outputId": "10d356bd-fdb8-44de-d0b5-fc4fd91ba1d7"
      },
      "outputs": [
        {
          "data": {
            "text/plain": [
              "age                            0\n",
              "gender                         0\n",
              "self_employed                 18\n",
              "family_history                 0\n",
              "treatment                      0\n",
              "work_interfere               264\n",
              "no_employees                   0\n",
              "remote_work                    0\n",
              "tech_company                   0\n",
              "benefits                       0\n",
              "care_options                   0\n",
              "wellness_program               0\n",
              "seek_help                      0\n",
              "anonymity                      0\n",
              "leave                          0\n",
              "mental_health_consequence      0\n",
              "phys_health_consequence        0\n",
              "coworkers                      0\n",
              "supervisor                     0\n",
              "mental_health_interview        0\n",
              "phys_health_interview          0\n",
              "mental_vs_physical             0\n",
              "obs_consequence                0\n",
              "dtype: int64"
            ]
          },
          "execution_count": 67,
          "metadata": {},
          "output_type": "execute_result"
        }
      ],
      "source": [
        "# get the number of missing data per each column\n",
        "missing_count = data.isnull().sum()\n",
        "\n",
        "# look at the number of missing points in the columns\n",
        "missing_count[0:n_cols]"
      ]
    },
    {
      "cell_type": "code",
      "execution_count": 68,
      "id": "67efbbf7",
      "metadata": {
        "colab": {
          "base_uri": "https://localhost:8080/"
        },
        "id": "67efbbf7",
        "outputId": "45905eee-7bc2-46e3-ebd2-0c2a8b6d8b45"
      },
      "outputs": [
        {
          "data": {
            "text/plain": [
              "0.9738577891356148"
            ]
          },
          "execution_count": 68,
          "metadata": {},
          "output_type": "execute_result"
        }
      ],
      "source": [
        "#get the percentage of missing values\n",
        "n_missing = missing_count.sum()\n",
        "n_cells = np.product(data.shape)\n",
        "(n_missing/n_cells)*100"
      ]
    },
    {
      "cell_type": "markdown",
      "id": "90afd0ca",
      "metadata": {
        "id": "90afd0ca"
      },
      "source": [
        " ### filling missing values"
      ]
    },
    {
      "cell_type": "code",
      "execution_count": 69,
      "id": "32383beb",
      "metadata": {
        "colab": {
          "base_uri": "https://localhost:8080/",
          "height": 617
        },
        "id": "32383beb",
        "outputId": "96dbfd69-4444-4160-e852-bb137be965c2"
      },
      "outputs": [
        {
          "data": {
            "text/html": [
              "<div>\n",
              "<style scoped>\n",
              "    .dataframe tbody tr th:only-of-type {\n",
              "        vertical-align: middle;\n",
              "    }\n",
              "\n",
              "    .dataframe tbody tr th {\n",
              "        vertical-align: top;\n",
              "    }\n",
              "\n",
              "    .dataframe thead th {\n",
              "        text-align: right;\n",
              "    }\n",
              "</style>\n",
              "<table border=\"1\" class=\"dataframe\">\n",
              "  <thead>\n",
              "    <tr style=\"text-align: right;\">\n",
              "      <th></th>\n",
              "      <th>age</th>\n",
              "      <th>gender</th>\n",
              "      <th>self_employed</th>\n",
              "      <th>family_history</th>\n",
              "      <th>treatment</th>\n",
              "      <th>work_interfere</th>\n",
              "      <th>no_employees</th>\n",
              "      <th>remote_work</th>\n",
              "      <th>tech_company</th>\n",
              "      <th>benefits</th>\n",
              "      <th>...</th>\n",
              "      <th>anonymity</th>\n",
              "      <th>leave</th>\n",
              "      <th>mental_health_consequence</th>\n",
              "      <th>phys_health_consequence</th>\n",
              "      <th>coworkers</th>\n",
              "      <th>supervisor</th>\n",
              "      <th>mental_health_interview</th>\n",
              "      <th>phys_health_interview</th>\n",
              "      <th>mental_vs_physical</th>\n",
              "      <th>obs_consequence</th>\n",
              "    </tr>\n",
              "  </thead>\n",
              "  <tbody>\n",
              "    <tr>\n",
              "      <th>0</th>\n",
              "      <td>37</td>\n",
              "      <td>Female</td>\n",
              "      <td>No</td>\n",
              "      <td>No</td>\n",
              "      <td>Yes</td>\n",
              "      <td>Often</td>\n",
              "      <td>6-25</td>\n",
              "      <td>No</td>\n",
              "      <td>Yes</td>\n",
              "      <td>Yes</td>\n",
              "      <td>...</td>\n",
              "      <td>Yes</td>\n",
              "      <td>Somewhat easy</td>\n",
              "      <td>No</td>\n",
              "      <td>No</td>\n",
              "      <td>Some of them</td>\n",
              "      <td>Yes</td>\n",
              "      <td>No</td>\n",
              "      <td>Maybe</td>\n",
              "      <td>Yes</td>\n",
              "      <td>No</td>\n",
              "    </tr>\n",
              "    <tr>\n",
              "      <th>1</th>\n",
              "      <td>44</td>\n",
              "      <td>M</td>\n",
              "      <td>No</td>\n",
              "      <td>No</td>\n",
              "      <td>No</td>\n",
              "      <td>Rarely</td>\n",
              "      <td>More than 1000</td>\n",
              "      <td>No</td>\n",
              "      <td>No</td>\n",
              "      <td>Don't know</td>\n",
              "      <td>...</td>\n",
              "      <td>Don't know</td>\n",
              "      <td>Don't know</td>\n",
              "      <td>Maybe</td>\n",
              "      <td>No</td>\n",
              "      <td>No</td>\n",
              "      <td>No</td>\n",
              "      <td>No</td>\n",
              "      <td>No</td>\n",
              "      <td>Don't know</td>\n",
              "      <td>No</td>\n",
              "    </tr>\n",
              "    <tr>\n",
              "      <th>2</th>\n",
              "      <td>32</td>\n",
              "      <td>Male</td>\n",
              "      <td>No</td>\n",
              "      <td>No</td>\n",
              "      <td>No</td>\n",
              "      <td>Rarely</td>\n",
              "      <td>6-25</td>\n",
              "      <td>No</td>\n",
              "      <td>Yes</td>\n",
              "      <td>No</td>\n",
              "      <td>...</td>\n",
              "      <td>Don't know</td>\n",
              "      <td>Somewhat difficult</td>\n",
              "      <td>No</td>\n",
              "      <td>No</td>\n",
              "      <td>Yes</td>\n",
              "      <td>Yes</td>\n",
              "      <td>Yes</td>\n",
              "      <td>Yes</td>\n",
              "      <td>No</td>\n",
              "      <td>No</td>\n",
              "    </tr>\n",
              "    <tr>\n",
              "      <th>3</th>\n",
              "      <td>31</td>\n",
              "      <td>Male</td>\n",
              "      <td>No</td>\n",
              "      <td>Yes</td>\n",
              "      <td>Yes</td>\n",
              "      <td>Often</td>\n",
              "      <td>26-100</td>\n",
              "      <td>No</td>\n",
              "      <td>Yes</td>\n",
              "      <td>No</td>\n",
              "      <td>...</td>\n",
              "      <td>No</td>\n",
              "      <td>Somewhat difficult</td>\n",
              "      <td>Yes</td>\n",
              "      <td>Yes</td>\n",
              "      <td>Some of them</td>\n",
              "      <td>No</td>\n",
              "      <td>Maybe</td>\n",
              "      <td>Maybe</td>\n",
              "      <td>No</td>\n",
              "      <td>Yes</td>\n",
              "    </tr>\n",
              "    <tr>\n",
              "      <th>4</th>\n",
              "      <td>31</td>\n",
              "      <td>Male</td>\n",
              "      <td>No</td>\n",
              "      <td>No</td>\n",
              "      <td>No</td>\n",
              "      <td>Never</td>\n",
              "      <td>100-500</td>\n",
              "      <td>Yes</td>\n",
              "      <td>Yes</td>\n",
              "      <td>Yes</td>\n",
              "      <td>...</td>\n",
              "      <td>Don't know</td>\n",
              "      <td>Don't know</td>\n",
              "      <td>No</td>\n",
              "      <td>No</td>\n",
              "      <td>Some of them</td>\n",
              "      <td>Yes</td>\n",
              "      <td>Yes</td>\n",
              "      <td>Yes</td>\n",
              "      <td>Don't know</td>\n",
              "      <td>No</td>\n",
              "    </tr>\n",
              "    <tr>\n",
              "      <th>...</th>\n",
              "      <td>...</td>\n",
              "      <td>...</td>\n",
              "      <td>...</td>\n",
              "      <td>...</td>\n",
              "      <td>...</td>\n",
              "      <td>...</td>\n",
              "      <td>...</td>\n",
              "      <td>...</td>\n",
              "      <td>...</td>\n",
              "      <td>...</td>\n",
              "      <td>...</td>\n",
              "      <td>...</td>\n",
              "      <td>...</td>\n",
              "      <td>...</td>\n",
              "      <td>...</td>\n",
              "      <td>...</td>\n",
              "      <td>...</td>\n",
              "      <td>...</td>\n",
              "      <td>...</td>\n",
              "      <td>...</td>\n",
              "      <td>...</td>\n",
              "    </tr>\n",
              "    <tr>\n",
              "      <th>1252</th>\n",
              "      <td>29</td>\n",
              "      <td>male</td>\n",
              "      <td>No</td>\n",
              "      <td>Yes</td>\n",
              "      <td>Yes</td>\n",
              "      <td>Sometimes</td>\n",
              "      <td>100-500</td>\n",
              "      <td>Yes</td>\n",
              "      <td>Yes</td>\n",
              "      <td>Yes</td>\n",
              "      <td>...</td>\n",
              "      <td>Yes</td>\n",
              "      <td>Don't know</td>\n",
              "      <td>Yes</td>\n",
              "      <td>No</td>\n",
              "      <td>Some of them</td>\n",
              "      <td>No</td>\n",
              "      <td>No</td>\n",
              "      <td>Maybe</td>\n",
              "      <td>No</td>\n",
              "      <td>No</td>\n",
              "    </tr>\n",
              "    <tr>\n",
              "      <th>1253</th>\n",
              "      <td>36</td>\n",
              "      <td>Male</td>\n",
              "      <td>No</td>\n",
              "      <td>Yes</td>\n",
              "      <td>No</td>\n",
              "      <td>Rarely</td>\n",
              "      <td>More than 1000</td>\n",
              "      <td>No</td>\n",
              "      <td>No</td>\n",
              "      <td>Don't know</td>\n",
              "      <td>...</td>\n",
              "      <td>Don't know</td>\n",
              "      <td>Somewhat easy</td>\n",
              "      <td>Maybe</td>\n",
              "      <td>Maybe</td>\n",
              "      <td>Some of them</td>\n",
              "      <td>Some of them</td>\n",
              "      <td>No</td>\n",
              "      <td>No</td>\n",
              "      <td>Don't know</td>\n",
              "      <td>No</td>\n",
              "    </tr>\n",
              "    <tr>\n",
              "      <th>1255</th>\n",
              "      <td>32</td>\n",
              "      <td>Male</td>\n",
              "      <td>No</td>\n",
              "      <td>Yes</td>\n",
              "      <td>Yes</td>\n",
              "      <td>Often</td>\n",
              "      <td>26-100</td>\n",
              "      <td>Yes</td>\n",
              "      <td>Yes</td>\n",
              "      <td>Yes</td>\n",
              "      <td>...</td>\n",
              "      <td>Yes</td>\n",
              "      <td>Somewhat difficult</td>\n",
              "      <td>No</td>\n",
              "      <td>No</td>\n",
              "      <td>Some of them</td>\n",
              "      <td>Yes</td>\n",
              "      <td>No</td>\n",
              "      <td>No</td>\n",
              "      <td>Yes</td>\n",
              "      <td>No</td>\n",
              "    </tr>\n",
              "    <tr>\n",
              "      <th>1256</th>\n",
              "      <td>34</td>\n",
              "      <td>male</td>\n",
              "      <td>No</td>\n",
              "      <td>Yes</td>\n",
              "      <td>Yes</td>\n",
              "      <td>Sometimes</td>\n",
              "      <td>More than 1000</td>\n",
              "      <td>No</td>\n",
              "      <td>Yes</td>\n",
              "      <td>Yes</td>\n",
              "      <td>...</td>\n",
              "      <td>Don't know</td>\n",
              "      <td>Somewhat difficult</td>\n",
              "      <td>Yes</td>\n",
              "      <td>Yes</td>\n",
              "      <td>No</td>\n",
              "      <td>No</td>\n",
              "      <td>No</td>\n",
              "      <td>No</td>\n",
              "      <td>No</td>\n",
              "      <td>No</td>\n",
              "    </tr>\n",
              "    <tr>\n",
              "      <th>1258</th>\n",
              "      <td>25</td>\n",
              "      <td>Male</td>\n",
              "      <td>No</td>\n",
              "      <td>Yes</td>\n",
              "      <td>Yes</td>\n",
              "      <td>Sometimes</td>\n",
              "      <td>26-100</td>\n",
              "      <td>No</td>\n",
              "      <td>No</td>\n",
              "      <td>Yes</td>\n",
              "      <td>...</td>\n",
              "      <td>Yes</td>\n",
              "      <td>Don't know</td>\n",
              "      <td>Maybe</td>\n",
              "      <td>No</td>\n",
              "      <td>Some of them</td>\n",
              "      <td>No</td>\n",
              "      <td>No</td>\n",
              "      <td>No</td>\n",
              "      <td>Don't know</td>\n",
              "      <td>No</td>\n",
              "    </tr>\n",
              "  </tbody>\n",
              "</table>\n",
              "<p>995 rows × 23 columns</p>\n",
              "</div>"
            ],
            "text/plain": [
              "      age  gender self_employed family_history treatment work_interfere  \\\n",
              "0      37  Female            No             No       Yes          Often   \n",
              "1      44       M            No             No        No         Rarely   \n",
              "2      32    Male            No             No        No         Rarely   \n",
              "3      31    Male            No            Yes       Yes          Often   \n",
              "4      31    Male            No             No        No          Never   \n",
              "...   ...     ...           ...            ...       ...            ...   \n",
              "1252   29    male            No            Yes       Yes      Sometimes   \n",
              "1253   36    Male            No            Yes        No         Rarely   \n",
              "1255   32    Male            No            Yes       Yes          Often   \n",
              "1256   34    male            No            Yes       Yes      Sometimes   \n",
              "1258   25    Male            No            Yes       Yes      Sometimes   \n",
              "\n",
              "        no_employees remote_work tech_company    benefits  ...   anonymity  \\\n",
              "0               6-25          No          Yes         Yes  ...         Yes   \n",
              "1     More than 1000          No           No  Don't know  ...  Don't know   \n",
              "2               6-25          No          Yes          No  ...  Don't know   \n",
              "3             26-100          No          Yes          No  ...          No   \n",
              "4            100-500         Yes          Yes         Yes  ...  Don't know   \n",
              "...              ...         ...          ...         ...  ...         ...   \n",
              "1252         100-500         Yes          Yes         Yes  ...         Yes   \n",
              "1253  More than 1000          No           No  Don't know  ...  Don't know   \n",
              "1255          26-100         Yes          Yes         Yes  ...         Yes   \n",
              "1256  More than 1000          No          Yes         Yes  ...  Don't know   \n",
              "1258          26-100          No           No         Yes  ...         Yes   \n",
              "\n",
              "                   leave mental_health_consequence phys_health_consequence  \\\n",
              "0          Somewhat easy                        No                      No   \n",
              "1             Don't know                     Maybe                      No   \n",
              "2     Somewhat difficult                        No                      No   \n",
              "3     Somewhat difficult                       Yes                     Yes   \n",
              "4             Don't know                        No                      No   \n",
              "...                  ...                       ...                     ...   \n",
              "1252          Don't know                       Yes                      No   \n",
              "1253       Somewhat easy                     Maybe                   Maybe   \n",
              "1255  Somewhat difficult                        No                      No   \n",
              "1256  Somewhat difficult                       Yes                     Yes   \n",
              "1258          Don't know                     Maybe                      No   \n",
              "\n",
              "         coworkers    supervisor mental_health_interview  \\\n",
              "0     Some of them           Yes                      No   \n",
              "1               No            No                      No   \n",
              "2              Yes           Yes                     Yes   \n",
              "3     Some of them            No                   Maybe   \n",
              "4     Some of them           Yes                     Yes   \n",
              "...            ...           ...                     ...   \n",
              "1252  Some of them            No                      No   \n",
              "1253  Some of them  Some of them                      No   \n",
              "1255  Some of them           Yes                      No   \n",
              "1256            No            No                      No   \n",
              "1258  Some of them            No                      No   \n",
              "\n",
              "     phys_health_interview mental_vs_physical obs_consequence  \n",
              "0                    Maybe                Yes              No  \n",
              "1                       No         Don't know              No  \n",
              "2                      Yes                 No              No  \n",
              "3                    Maybe                 No             Yes  \n",
              "4                      Yes         Don't know              No  \n",
              "...                    ...                ...             ...  \n",
              "1252                 Maybe                 No              No  \n",
              "1253                    No         Don't know              No  \n",
              "1255                    No                Yes              No  \n",
              "1256                    No                 No              No  \n",
              "1258                    No         Don't know              No  \n",
              "\n",
              "[995 rows x 23 columns]"
            ]
          },
          "execution_count": 69,
          "metadata": {},
          "output_type": "execute_result"
        }
      ],
      "source": [
        "#at the self employed column there are small number of nan values and it someway equevlent to no so we will replace it\n",
        "data['self_employed'] = data['self_employed'].fillna(\"No\")\n",
        "#the other nan values can be treated in many ways , i choose to drop them\n",
        "data = data.dropna()\n",
        "data"
      ]
    },
    {
      "cell_type": "code",
      "execution_count": 70,
      "id": "16fa3de8",
      "metadata": {
        "colab": {
          "base_uri": "https://localhost:8080/"
        },
        "id": "16fa3de8",
        "outputId": "60d0c173-4072-4131-bee8-0a795e53c18e"
      },
      "outputs": [
        {
          "data": {
            "text/plain": [
              "0.0"
            ]
          },
          "execution_count": 70,
          "metadata": {},
          "output_type": "execute_result"
        }
      ],
      "source": [
        "#calculating percentage of missing values after handling them\n",
        "missing_count = data.isnull().sum()\n",
        "n_missing = missing_count.sum()\n",
        "n_cells = np.product(data.shape)\n",
        "(n_missing/n_cells)*100"
      ]
    },
    {
      "cell_type": "markdown",
      "id": "db282389",
      "metadata": {
        "id": "db282389"
      },
      "source": [
        "No missing values now"
      ]
    },
    {
      "cell_type": "markdown",
      "id": "e70e89d0",
      "metadata": {
        "id": "e70e89d0"
      },
      "source": [
        "## 4- Editing inconsistent data"
      ]
    },
    {
      "cell_type": "code",
      "execution_count": 71,
      "id": "a091ba31",
      "metadata": {
        "colab": {
          "base_uri": "https://localhost:8080/"
        },
        "id": "a091ba31",
        "outputId": "3cf6c89c-0ec5-4c57-ae4d-6f8b444d5d98"
      },
      "outputs": [
        {
          "data": {
            "text/plain": [
              "gender                                        \n",
              "Male                                              481\n",
              "male                                              157\n",
              "Female                                            106\n",
              "M                                                  87\n",
              "female                                             53\n",
              "F                                                  31\n",
              "m                                                  23\n",
              "f                                                  13\n",
              "Make                                                4\n",
              "Male                                                3\n",
              "Cis Male                                            2\n",
              "Female                                              2\n",
              "Female (trans)                                      2\n",
              "femail                                              1\n",
              "fluid                                               1\n",
              "cis-female/femme                                    1\n",
              "A little about you                                  1\n",
              "male leaning androgynous                            1\n",
              "Woman                                               1\n",
              "msle                                                1\n",
              "non-binary                                          1\n",
              "ostensibly male, unsure what that really means      1\n",
              "p                                                   1\n",
              "queer                                               1\n",
              "queer/she/they                                      1\n",
              "cis male                                            1\n",
              "Malr                                                1\n",
              "Trans-female                                        1\n",
              "Genderqueer                                         1\n",
              "All                                                 1\n",
              "Androgyne                                           1\n",
              "Cis Female                                          1\n",
              "Cis Man                                             1\n",
              "Enby                                                1\n",
              "Female (cis)                                        1\n",
              "Guy (-ish) ^_^                                      1\n",
              "Trans woman                                         1\n",
              "Mail                                                1\n",
              "Mal                                                 1\n",
              "Male-ish                                            1\n",
              "Agender                                             1\n",
              "Nah                                                 1\n",
              "Neuter                                              1\n",
              "woman                                               1\n",
              "dtype: int64"
            ]
          },
          "execution_count": 71,
          "metadata": {},
          "output_type": "execute_result"
        }
      ],
      "source": [
        "#get the unique values of column gender to check if there is inconsistent data\n",
        "#data ['gender'].unique()\n",
        "gender_v = pd.DataFrame(data ['gender'])\n",
        "gender_v.value_counts()"
      ]
    },
    {
      "cell_type": "markdown",
      "id": "1f9b8c73",
      "metadata": {
        "id": "1f9b8c73"
      },
      "source": [
        "there are many weird values , we need it to be only female & male"
      ]
    },
    {
      "cell_type": "markdown",
      "id": "1292811c",
      "metadata": {
        "id": "1292811c"
      },
      "source": [
        "#### Setting all possible values to only Male & Female"
      ]
    },
    {
      "cell_type": "code",
      "execution_count": 72,
      "id": "94c9bd01",
      "metadata": {
        "id": "94c9bd01"
      },
      "outputs": [],
      "source": [
        "data.loc[data['gender'].str.contains('^M.*', regex=True, na=False), 'gender'] = 'Male'\n",
        "data.loc[data['gender'].str.contains('Woman', regex=True, case=False, na=False), 'gender'] = 'Female'\n",
        "data.loc[data['gender'].str.contains('F', case=False, na=False), 'gender'] = 'Female'\n",
        "data.loc[data['gender'].str.contains('Man', regex=True, na=False), 'gender'] = 'Male'\n",
        "data.loc[data['gender'].str.contains('^male', case=True,regex=True, na=False), 'gender'] = 'Male'\n",
        "#data.loc[data['gender'].str.contains('Male', case=False,regex=True, na=False), 'gender'] = 'Male'"
      ]
    },
    {
      "cell_type": "code",
      "execution_count": 73,
      "id": "50793a8a",
      "metadata": {
        "colab": {
          "base_uri": "https://localhost:8080/"
        },
        "id": "50793a8a",
        "outputId": "077e683f-6c8f-4dd1-d414-c4becaf0a499"
      },
      "outputs": [
        {
          "data": {
            "text/plain": [
              "array(['Female', 'Male', 'm', 'Cis Male', 'queer/she/they', 'non-binary',\n",
              "       'Nah', 'All', 'Enby', 'Genderqueer', 'Androgyne', 'Agender',\n",
              "       'Guy (-ish) ^_^', 'msle', 'Neuter', 'queer', 'cis male',\n",
              "       'A little about you', 'p',\n",
              "       'ostensibly male, unsure what that really means'], dtype=object)"
            ]
          },
          "execution_count": 73,
          "metadata": {},
          "output_type": "execute_result"
        }
      ],
      "source": [
        "data ['gender'].unique()"
      ]
    },
    {
      "cell_type": "markdown",
      "id": "567167e7",
      "metadata": {
        "id": "567167e7"
      },
      "source": [
        "the other values is unknown so we will drop it"
      ]
    },
    {
      "cell_type": "code",
      "execution_count": 74,
      "id": "681c9fdd",
      "metadata": {
        "colab": {
          "base_uri": "https://localhost:8080/"
        },
        "id": "681c9fdd",
        "outputId": "421856d2-c793-4f2c-c00f-86e5db3824ac"
      },
      "outputs": [
        {
          "data": {
            "text/plain": [
              "array(['Female', 'Male'], dtype=object)"
            ]
          },
          "execution_count": 74,
          "metadata": {},
          "output_type": "execute_result"
        }
      ],
      "source": [
        "data = data.drop(data[~data['gender'].isin(['Female', 'Male'])].index)\n",
        "data ['gender'].unique()"
      ]
    },
    {
      "cell_type": "markdown",
      "id": "46341741",
      "metadata": {
        "id": "46341741"
      },
      "source": [
        "### we need to check the inconsistency for each column"
      ]
    },
    {
      "cell_type": "code",
      "execution_count": 75,
      "id": "d71e228c",
      "metadata": {
        "colab": {
          "base_uri": "https://localhost:8080/"
        },
        "id": "d71e228c",
        "outputId": "3402198a-60b2-4b1a-d30e-c256cc45db98"
      },
      "outputs": [
        {
          "name": "stdout",
          "output_type": "stream",
          "text": [
            "Unique values in column 'age': [   37    44    32    31    33    35    39    42    23    29    36    27\n",
            "    46    41    34    30    40    24    18    38    22    26    25    28\n",
            "    45    21    19    43    56    54   329    55    57    58    48    47\n",
            "    62    51    50    49    20 -1726    53    61    11    72    60]\n",
            "Unique values in column 'gender': ['Female' 'Male']\n",
            "Unique values in column 'self_employed': ['No' 'Yes']\n",
            "Unique values in column 'family_history': ['No' 'Yes']\n",
            "Unique values in column 'treatment': ['Yes' 'No']\n",
            "Unique values in column 'work_interfere': ['Often' 'Rarely' 'Never' 'Sometimes']\n",
            "Unique values in column 'no_employees': ['6-25' 'More than 1000' '26-100' '100-500' '1-5' '500-1000']\n",
            "Unique values in column 'remote_work': ['No' 'Yes']\n",
            "Unique values in column 'tech_company': ['Yes' 'No']\n",
            "Unique values in column 'benefits': ['Yes' \"Don't know\" 'No']\n",
            "Unique values in column 'care_options': ['Not sure' 'No' 'Yes']\n",
            "Unique values in column 'wellness_program': ['No' \"Don't know\" 'Yes']\n",
            "Unique values in column 'seek_help': ['Yes' \"Don't know\" 'No']\n",
            "Unique values in column 'anonymity': ['Yes' \"Don't know\" 'No']\n",
            "Unique values in column 'leave': ['Somewhat easy' \"Don't know\" 'Somewhat difficult' 'Very difficult'\n",
            " 'Very easy']\n",
            "Unique values in column 'mental_health_consequence': ['No' 'Maybe' 'Yes']\n",
            "Unique values in column 'phys_health_consequence': ['No' 'Yes' 'Maybe']\n",
            "Unique values in column 'coworkers': ['Some of them' 'No' 'Yes']\n",
            "Unique values in column 'supervisor': ['Yes' 'No' 'Some of them']\n",
            "Unique values in column 'mental_health_interview': ['No' 'Yes' 'Maybe']\n",
            "Unique values in column 'phys_health_interview': ['Maybe' 'No' 'Yes']\n",
            "Unique values in column 'mental_vs_physical': ['Yes' \"Don't know\" 'No']\n",
            "Unique values in column 'obs_consequence': ['No' 'Yes']\n"
          ]
        }
      ],
      "source": [
        "for col in col_names :\n",
        "    unique = data[col].unique()\n",
        "    print(f\"Unique values in column '{col}': {unique}\")"
      ]
    },
    {
      "cell_type": "markdown",
      "id": "d434ff36",
      "metadata": {
        "id": "d434ff36"
      },
      "source": [
        "we see that the age column has negative values which dosen't make sense so we will apply a condition on it"
      ]
    },
    {
      "cell_type": "code",
      "execution_count": 76,
      "id": "5aaca1e2",
      "metadata": {
        "colab": {
          "base_uri": "https://localhost:8080/",
          "height": 617
        },
        "id": "5aaca1e2",
        "outputId": "9045e863-dab4-48a2-fadb-1b641f336760"
      },
      "outputs": [
        {
          "data": {
            "text/html": [
              "<div>\n",
              "<style scoped>\n",
              "    .dataframe tbody tr th:only-of-type {\n",
              "        vertical-align: middle;\n",
              "    }\n",
              "\n",
              "    .dataframe tbody tr th {\n",
              "        vertical-align: top;\n",
              "    }\n",
              "\n",
              "    .dataframe thead th {\n",
              "        text-align: right;\n",
              "    }\n",
              "</style>\n",
              "<table border=\"1\" class=\"dataframe\">\n",
              "  <thead>\n",
              "    <tr style=\"text-align: right;\">\n",
              "      <th></th>\n",
              "      <th>age</th>\n",
              "      <th>gender</th>\n",
              "      <th>self_employed</th>\n",
              "      <th>family_history</th>\n",
              "      <th>treatment</th>\n",
              "      <th>work_interfere</th>\n",
              "      <th>no_employees</th>\n",
              "      <th>remote_work</th>\n",
              "      <th>tech_company</th>\n",
              "      <th>benefits</th>\n",
              "      <th>...</th>\n",
              "      <th>anonymity</th>\n",
              "      <th>leave</th>\n",
              "      <th>mental_health_consequence</th>\n",
              "      <th>phys_health_consequence</th>\n",
              "      <th>coworkers</th>\n",
              "      <th>supervisor</th>\n",
              "      <th>mental_health_interview</th>\n",
              "      <th>phys_health_interview</th>\n",
              "      <th>mental_vs_physical</th>\n",
              "      <th>obs_consequence</th>\n",
              "    </tr>\n",
              "  </thead>\n",
              "  <tbody>\n",
              "    <tr>\n",
              "      <th>0</th>\n",
              "      <td>37</td>\n",
              "      <td>Female</td>\n",
              "      <td>No</td>\n",
              "      <td>No</td>\n",
              "      <td>Yes</td>\n",
              "      <td>Often</td>\n",
              "      <td>6-25</td>\n",
              "      <td>No</td>\n",
              "      <td>Yes</td>\n",
              "      <td>Yes</td>\n",
              "      <td>...</td>\n",
              "      <td>Yes</td>\n",
              "      <td>Somewhat easy</td>\n",
              "      <td>No</td>\n",
              "      <td>No</td>\n",
              "      <td>Some of them</td>\n",
              "      <td>Yes</td>\n",
              "      <td>No</td>\n",
              "      <td>Maybe</td>\n",
              "      <td>Yes</td>\n",
              "      <td>No</td>\n",
              "    </tr>\n",
              "    <tr>\n",
              "      <th>1</th>\n",
              "      <td>44</td>\n",
              "      <td>Male</td>\n",
              "      <td>No</td>\n",
              "      <td>No</td>\n",
              "      <td>No</td>\n",
              "      <td>Rarely</td>\n",
              "      <td>More than 1000</td>\n",
              "      <td>No</td>\n",
              "      <td>No</td>\n",
              "      <td>Don't know</td>\n",
              "      <td>...</td>\n",
              "      <td>Don't know</td>\n",
              "      <td>Don't know</td>\n",
              "      <td>Maybe</td>\n",
              "      <td>No</td>\n",
              "      <td>No</td>\n",
              "      <td>No</td>\n",
              "      <td>No</td>\n",
              "      <td>No</td>\n",
              "      <td>Don't know</td>\n",
              "      <td>No</td>\n",
              "    </tr>\n",
              "    <tr>\n",
              "      <th>2</th>\n",
              "      <td>32</td>\n",
              "      <td>Male</td>\n",
              "      <td>No</td>\n",
              "      <td>No</td>\n",
              "      <td>No</td>\n",
              "      <td>Rarely</td>\n",
              "      <td>6-25</td>\n",
              "      <td>No</td>\n",
              "      <td>Yes</td>\n",
              "      <td>No</td>\n",
              "      <td>...</td>\n",
              "      <td>Don't know</td>\n",
              "      <td>Somewhat difficult</td>\n",
              "      <td>No</td>\n",
              "      <td>No</td>\n",
              "      <td>Yes</td>\n",
              "      <td>Yes</td>\n",
              "      <td>Yes</td>\n",
              "      <td>Yes</td>\n",
              "      <td>No</td>\n",
              "      <td>No</td>\n",
              "    </tr>\n",
              "    <tr>\n",
              "      <th>3</th>\n",
              "      <td>31</td>\n",
              "      <td>Male</td>\n",
              "      <td>No</td>\n",
              "      <td>Yes</td>\n",
              "      <td>Yes</td>\n",
              "      <td>Often</td>\n",
              "      <td>26-100</td>\n",
              "      <td>No</td>\n",
              "      <td>Yes</td>\n",
              "      <td>No</td>\n",
              "      <td>...</td>\n",
              "      <td>No</td>\n",
              "      <td>Somewhat difficult</td>\n",
              "      <td>Yes</td>\n",
              "      <td>Yes</td>\n",
              "      <td>Some of them</td>\n",
              "      <td>No</td>\n",
              "      <td>Maybe</td>\n",
              "      <td>Maybe</td>\n",
              "      <td>No</td>\n",
              "      <td>Yes</td>\n",
              "    </tr>\n",
              "    <tr>\n",
              "      <th>4</th>\n",
              "      <td>31</td>\n",
              "      <td>Male</td>\n",
              "      <td>No</td>\n",
              "      <td>No</td>\n",
              "      <td>No</td>\n",
              "      <td>Never</td>\n",
              "      <td>100-500</td>\n",
              "      <td>Yes</td>\n",
              "      <td>Yes</td>\n",
              "      <td>Yes</td>\n",
              "      <td>...</td>\n",
              "      <td>Don't know</td>\n",
              "      <td>Don't know</td>\n",
              "      <td>No</td>\n",
              "      <td>No</td>\n",
              "      <td>Some of them</td>\n",
              "      <td>Yes</td>\n",
              "      <td>Yes</td>\n",
              "      <td>Yes</td>\n",
              "      <td>Don't know</td>\n",
              "      <td>No</td>\n",
              "    </tr>\n",
              "    <tr>\n",
              "      <th>...</th>\n",
              "      <td>...</td>\n",
              "      <td>...</td>\n",
              "      <td>...</td>\n",
              "      <td>...</td>\n",
              "      <td>...</td>\n",
              "      <td>...</td>\n",
              "      <td>...</td>\n",
              "      <td>...</td>\n",
              "      <td>...</td>\n",
              "      <td>...</td>\n",
              "      <td>...</td>\n",
              "      <td>...</td>\n",
              "      <td>...</td>\n",
              "      <td>...</td>\n",
              "      <td>...</td>\n",
              "      <td>...</td>\n",
              "      <td>...</td>\n",
              "      <td>...</td>\n",
              "      <td>...</td>\n",
              "      <td>...</td>\n",
              "      <td>...</td>\n",
              "    </tr>\n",
              "    <tr>\n",
              "      <th>1252</th>\n",
              "      <td>29</td>\n",
              "      <td>Male</td>\n",
              "      <td>No</td>\n",
              "      <td>Yes</td>\n",
              "      <td>Yes</td>\n",
              "      <td>Sometimes</td>\n",
              "      <td>100-500</td>\n",
              "      <td>Yes</td>\n",
              "      <td>Yes</td>\n",
              "      <td>Yes</td>\n",
              "      <td>...</td>\n",
              "      <td>Yes</td>\n",
              "      <td>Don't know</td>\n",
              "      <td>Yes</td>\n",
              "      <td>No</td>\n",
              "      <td>Some of them</td>\n",
              "      <td>No</td>\n",
              "      <td>No</td>\n",
              "      <td>Maybe</td>\n",
              "      <td>No</td>\n",
              "      <td>No</td>\n",
              "    </tr>\n",
              "    <tr>\n",
              "      <th>1253</th>\n",
              "      <td>36</td>\n",
              "      <td>Male</td>\n",
              "      <td>No</td>\n",
              "      <td>Yes</td>\n",
              "      <td>No</td>\n",
              "      <td>Rarely</td>\n",
              "      <td>More than 1000</td>\n",
              "      <td>No</td>\n",
              "      <td>No</td>\n",
              "      <td>Don't know</td>\n",
              "      <td>...</td>\n",
              "      <td>Don't know</td>\n",
              "      <td>Somewhat easy</td>\n",
              "      <td>Maybe</td>\n",
              "      <td>Maybe</td>\n",
              "      <td>Some of them</td>\n",
              "      <td>Some of them</td>\n",
              "      <td>No</td>\n",
              "      <td>No</td>\n",
              "      <td>Don't know</td>\n",
              "      <td>No</td>\n",
              "    </tr>\n",
              "    <tr>\n",
              "      <th>1255</th>\n",
              "      <td>32</td>\n",
              "      <td>Male</td>\n",
              "      <td>No</td>\n",
              "      <td>Yes</td>\n",
              "      <td>Yes</td>\n",
              "      <td>Often</td>\n",
              "      <td>26-100</td>\n",
              "      <td>Yes</td>\n",
              "      <td>Yes</td>\n",
              "      <td>Yes</td>\n",
              "      <td>...</td>\n",
              "      <td>Yes</td>\n",
              "      <td>Somewhat difficult</td>\n",
              "      <td>No</td>\n",
              "      <td>No</td>\n",
              "      <td>Some of them</td>\n",
              "      <td>Yes</td>\n",
              "      <td>No</td>\n",
              "      <td>No</td>\n",
              "      <td>Yes</td>\n",
              "      <td>No</td>\n",
              "    </tr>\n",
              "    <tr>\n",
              "      <th>1256</th>\n",
              "      <td>34</td>\n",
              "      <td>Male</td>\n",
              "      <td>No</td>\n",
              "      <td>Yes</td>\n",
              "      <td>Yes</td>\n",
              "      <td>Sometimes</td>\n",
              "      <td>More than 1000</td>\n",
              "      <td>No</td>\n",
              "      <td>Yes</td>\n",
              "      <td>Yes</td>\n",
              "      <td>...</td>\n",
              "      <td>Don't know</td>\n",
              "      <td>Somewhat difficult</td>\n",
              "      <td>Yes</td>\n",
              "      <td>Yes</td>\n",
              "      <td>No</td>\n",
              "      <td>No</td>\n",
              "      <td>No</td>\n",
              "      <td>No</td>\n",
              "      <td>No</td>\n",
              "      <td>No</td>\n",
              "    </tr>\n",
              "    <tr>\n",
              "      <th>1258</th>\n",
              "      <td>25</td>\n",
              "      <td>Male</td>\n",
              "      <td>No</td>\n",
              "      <td>Yes</td>\n",
              "      <td>Yes</td>\n",
              "      <td>Sometimes</td>\n",
              "      <td>26-100</td>\n",
              "      <td>No</td>\n",
              "      <td>No</td>\n",
              "      <td>Yes</td>\n",
              "      <td>...</td>\n",
              "      <td>Yes</td>\n",
              "      <td>Don't know</td>\n",
              "      <td>Maybe</td>\n",
              "      <td>No</td>\n",
              "      <td>Some of them</td>\n",
              "      <td>No</td>\n",
              "      <td>No</td>\n",
              "      <td>No</td>\n",
              "      <td>Don't know</td>\n",
              "      <td>No</td>\n",
              "    </tr>\n",
              "  </tbody>\n",
              "</table>\n",
              "<p>953 rows × 23 columns</p>\n",
              "</div>"
            ],
            "text/plain": [
              "      age  gender self_employed family_history treatment work_interfere  \\\n",
              "0      37  Female            No             No       Yes          Often   \n",
              "1      44    Male            No             No        No         Rarely   \n",
              "2      32    Male            No             No        No         Rarely   \n",
              "3      31    Male            No            Yes       Yes          Often   \n",
              "4      31    Male            No             No        No          Never   \n",
              "...   ...     ...           ...            ...       ...            ...   \n",
              "1252   29    Male            No            Yes       Yes      Sometimes   \n",
              "1253   36    Male            No            Yes        No         Rarely   \n",
              "1255   32    Male            No            Yes       Yes          Often   \n",
              "1256   34    Male            No            Yes       Yes      Sometimes   \n",
              "1258   25    Male            No            Yes       Yes      Sometimes   \n",
              "\n",
              "        no_employees remote_work tech_company    benefits  ...   anonymity  \\\n",
              "0               6-25          No          Yes         Yes  ...         Yes   \n",
              "1     More than 1000          No           No  Don't know  ...  Don't know   \n",
              "2               6-25          No          Yes          No  ...  Don't know   \n",
              "3             26-100          No          Yes          No  ...          No   \n",
              "4            100-500         Yes          Yes         Yes  ...  Don't know   \n",
              "...              ...         ...          ...         ...  ...         ...   \n",
              "1252         100-500         Yes          Yes         Yes  ...         Yes   \n",
              "1253  More than 1000          No           No  Don't know  ...  Don't know   \n",
              "1255          26-100         Yes          Yes         Yes  ...         Yes   \n",
              "1256  More than 1000          No          Yes         Yes  ...  Don't know   \n",
              "1258          26-100          No           No         Yes  ...         Yes   \n",
              "\n",
              "                   leave mental_health_consequence phys_health_consequence  \\\n",
              "0          Somewhat easy                        No                      No   \n",
              "1             Don't know                     Maybe                      No   \n",
              "2     Somewhat difficult                        No                      No   \n",
              "3     Somewhat difficult                       Yes                     Yes   \n",
              "4             Don't know                        No                      No   \n",
              "...                  ...                       ...                     ...   \n",
              "1252          Don't know                       Yes                      No   \n",
              "1253       Somewhat easy                     Maybe                   Maybe   \n",
              "1255  Somewhat difficult                        No                      No   \n",
              "1256  Somewhat difficult                       Yes                     Yes   \n",
              "1258          Don't know                     Maybe                      No   \n",
              "\n",
              "         coworkers    supervisor mental_health_interview  \\\n",
              "0     Some of them           Yes                      No   \n",
              "1               No            No                      No   \n",
              "2              Yes           Yes                     Yes   \n",
              "3     Some of them            No                   Maybe   \n",
              "4     Some of them           Yes                     Yes   \n",
              "...            ...           ...                     ...   \n",
              "1252  Some of them            No                      No   \n",
              "1253  Some of them  Some of them                      No   \n",
              "1255  Some of them           Yes                      No   \n",
              "1256            No            No                      No   \n",
              "1258  Some of them            No                      No   \n",
              "\n",
              "     phys_health_interview mental_vs_physical obs_consequence  \n",
              "0                    Maybe                Yes              No  \n",
              "1                       No         Don't know              No  \n",
              "2                      Yes                 No              No  \n",
              "3                    Maybe                 No             Yes  \n",
              "4                      Yes         Don't know              No  \n",
              "...                    ...                ...             ...  \n",
              "1252                 Maybe                 No              No  \n",
              "1253                    No         Don't know              No  \n",
              "1255                    No                Yes              No  \n",
              "1256                    No                 No              No  \n",
              "1258                    No         Don't know              No  \n",
              "\n",
              "[953 rows x 23 columns]"
            ]
          },
          "execution_count": 76,
          "metadata": {},
          "output_type": "execute_result"
        }
      ],
      "source": [
        "data = data[data['age'] >= 10]\n",
        "data"
      ]
    },
    {
      "cell_type": "markdown",
      "id": "40dc1d78",
      "metadata": {
        "id": "40dc1d78"
      },
      "source": [
        "## 5- Editing some datatypes\n",
        "no_employees column has a ranged values and it's type is string as we see"
      ]
    },
    {
      "cell_type": "code",
      "execution_count": 77,
      "id": "d981dbc7",
      "metadata": {
        "colab": {
          "base_uri": "https://localhost:8080/"
        },
        "id": "d981dbc7",
        "outputId": "dbe8ae3f-73ff-47db-93bd-8f9d6e47f067"
      },
      "outputs": [
        {
          "data": {
            "text/plain": [
              "array(['6-25', 'More than 1000', '26-100', '100-500', '1-5', '500-1000'],\n",
              "      dtype=object)"
            ]
          },
          "execution_count": 77,
          "metadata": {},
          "output_type": "execute_result"
        }
      ],
      "source": [
        "data['no_employees'].unique()"
      ]
    },
    {
      "cell_type": "markdown",
      "id": "2c2270b0",
      "metadata": {
        "id": "2c2270b0"
      },
      "source": [
        "so we will split the string to take the minimum number for each row"
      ]
    },
    {
      "cell_type": "code",
      "execution_count": 78,
      "id": "e92fe75f",
      "metadata": {
        "id": "e92fe75f"
      },
      "outputs": [],
      "source": [
        "data_t = data\n",
        "data.loc[data['no_employees'].str.contains('-', case=False, na=False), 'no_employees'] = data.loc[data['no_employees'].str.contains('-', case=False, na=False), 'no_employees'].str.split('-', expand=True)[0].astype(int)"
      ]
    },
    {
      "cell_type": "code",
      "execution_count": 79,
      "id": "3409ed11",
      "metadata": {
        "colab": {
          "base_uri": "https://localhost:8080/"
        },
        "id": "3409ed11",
        "outputId": "fb758b35-2c7b-441c-f9d6-9ba7ead8c731"
      },
      "outputs": [
        {
          "data": {
            "text/plain": [
              "array([6, 'More than 1000', 26, 100, 1, 500], dtype=object)"
            ]
          },
          "execution_count": 79,
          "metadata": {},
          "output_type": "execute_result"
        }
      ],
      "source": [
        "data['no_employees'].unique()"
      ]
    },
    {
      "cell_type": "code",
      "execution_count": 80,
      "id": "90e6a84b",
      "metadata": {
        "colab": {
          "base_uri": "https://localhost:8080/"
        },
        "id": "90e6a84b",
        "outputId": "f82e5cad-b777-4533-cbcd-c6df10afb5fc"
      },
      "outputs": [
        {
          "data": {
            "text/plain": [
              "array([6, 'More than 1000', 26, 100, 1, 500], dtype=object)"
            ]
          },
          "execution_count": 80,
          "metadata": {},
          "output_type": "execute_result"
        }
      ],
      "source": [
        "#another way to do this\n",
        "for i, row in data_t.iterrows():\n",
        "    if '-' in str(row['no_employees']):\n",
        "        data_t.at[i\n",
        "                  , 'no_employees'] = int(str(row['no_employees']).split('-')[0])\n",
        "data_t['no_employees'].unique()"
      ]
    },
    {
      "cell_type": "markdown",
      "id": "194eb2fc",
      "metadata": {
        "id": "194eb2fc"
      },
      "source": [
        "### inconsistency still exist\n",
        "so we will convert strings to the minimum too"
      ]
    },
    {
      "cell_type": "code",
      "execution_count": 81,
      "id": "b97a49d6",
      "metadata": {
        "colab": {
          "base_uri": "https://localhost:8080/"
        },
        "id": "b97a49d6",
        "outputId": "c83d0f9f-2532-42e0-dcbf-ae83173bdc07"
      },
      "outputs": [
        {
          "data": {
            "text/plain": [
              "array([   6, 1000,   26,  100,    1,  500])"
            ]
          },
          "execution_count": 81,
          "metadata": {},
          "output_type": "execute_result"
        }
      ],
      "source": [
        "for i, row in data.iterrows():\n",
        "    if 'More than 1000' in str(row['no_employees']):\n",
        "        data.at[i, 'no_employees'] = 1000\n",
        "#set column type to int\n",
        "data['no_employees'] = data['no_employees'].astype(int)\n",
        "data['no_employees'].unique()"
      ]
    },
    {
      "cell_type": "markdown",
      "id": "301e845d",
      "metadata": {
        "id": "301e845d"
      },
      "source": [
        "## 6- encoding data\n",
        "encoding done by 2 ways : if you have columns which contains only 2 values like yes or no , true or false\n",
        "you can do binary encoding ,\n",
        "if there are more values so we will use one hot encoding\n",
        "\n",
        "as we see the data unique values before .. there is some columns which has only 2 values\n",
        "so we will apply binary encoding at first"
      ]
    },
    {
      "cell_type": "code",
      "execution_count": 82,
      "id": "702f0636",
      "metadata": {
        "id": "702f0636"
      },
      "outputs": [],
      "source": [
        "lb = LabelBinarizer()\n",
        "\n",
        "for col in [ 'gender', 'self_employed', 'family_history', 'treatment','remote_work', 'tech_company','obs_consequence']:\n",
        "    data[col] = lb.fit_transform(data[col])"
      ]
    },
    {
      "cell_type": "code",
      "execution_count": 83,
      "id": "f0c61c5c",
      "metadata": {
        "id": "f0c61c5c"
      },
      "outputs": [],
      "source": [
        "#now we need to split the data before one hot encoding to compare the error before & after\n",
        "not_hot = data.dtypes == int\n",
        "not_hot_cols = data.columns[not_hot]\n",
        "not_hot_data = data.iloc[:, np.where(data.columns.isin(not_hot_cols))[0]]"
      ]
    },
    {
      "cell_type": "code",
      "execution_count": 84,
      "id": "8a40126a",
      "metadata": {
        "colab": {
          "base_uri": "https://localhost:8080/",
          "height": 770
        },
        "id": "8a40126a",
        "outputId": "ea628c1f-d978-4a35-942f-04c5cf284251"
      },
      "outputs": [
        {
          "data": {
            "text/html": [
              "<div>\n",
              "<style scoped>\n",
              "    .dataframe tbody tr th:only-of-type {\n",
              "        vertical-align: middle;\n",
              "    }\n",
              "\n",
              "    .dataframe tbody tr th {\n",
              "        vertical-align: top;\n",
              "    }\n",
              "\n",
              "    .dataframe thead th {\n",
              "        text-align: right;\n",
              "    }\n",
              "</style>\n",
              "<table border=\"1\" class=\"dataframe\">\n",
              "  <thead>\n",
              "    <tr style=\"text-align: right;\">\n",
              "      <th></th>\n",
              "      <th>0</th>\n",
              "    </tr>\n",
              "  </thead>\n",
              "  <tbody>\n",
              "    <tr>\n",
              "      <th>age</th>\n",
              "      <td>37</td>\n",
              "    </tr>\n",
              "    <tr>\n",
              "      <th>gender</th>\n",
              "      <td>0</td>\n",
              "    </tr>\n",
              "    <tr>\n",
              "      <th>self_employed</th>\n",
              "      <td>0</td>\n",
              "    </tr>\n",
              "    <tr>\n",
              "      <th>family_history</th>\n",
              "      <td>0</td>\n",
              "    </tr>\n",
              "    <tr>\n",
              "      <th>treatment</th>\n",
              "      <td>1</td>\n",
              "    </tr>\n",
              "    <tr>\n",
              "      <th>work_interfere</th>\n",
              "      <td>Often</td>\n",
              "    </tr>\n",
              "    <tr>\n",
              "      <th>no_employees</th>\n",
              "      <td>6</td>\n",
              "    </tr>\n",
              "    <tr>\n",
              "      <th>remote_work</th>\n",
              "      <td>0</td>\n",
              "    </tr>\n",
              "    <tr>\n",
              "      <th>tech_company</th>\n",
              "      <td>1</td>\n",
              "    </tr>\n",
              "    <tr>\n",
              "      <th>benefits</th>\n",
              "      <td>Yes</td>\n",
              "    </tr>\n",
              "    <tr>\n",
              "      <th>care_options</th>\n",
              "      <td>Not sure</td>\n",
              "    </tr>\n",
              "    <tr>\n",
              "      <th>wellness_program</th>\n",
              "      <td>No</td>\n",
              "    </tr>\n",
              "    <tr>\n",
              "      <th>seek_help</th>\n",
              "      <td>Yes</td>\n",
              "    </tr>\n",
              "    <tr>\n",
              "      <th>anonymity</th>\n",
              "      <td>Yes</td>\n",
              "    </tr>\n",
              "    <tr>\n",
              "      <th>leave</th>\n",
              "      <td>Somewhat easy</td>\n",
              "    </tr>\n",
              "    <tr>\n",
              "      <th>mental_health_consequence</th>\n",
              "      <td>No</td>\n",
              "    </tr>\n",
              "    <tr>\n",
              "      <th>phys_health_consequence</th>\n",
              "      <td>No</td>\n",
              "    </tr>\n",
              "    <tr>\n",
              "      <th>coworkers</th>\n",
              "      <td>Some of them</td>\n",
              "    </tr>\n",
              "    <tr>\n",
              "      <th>supervisor</th>\n",
              "      <td>Yes</td>\n",
              "    </tr>\n",
              "    <tr>\n",
              "      <th>mental_health_interview</th>\n",
              "      <td>No</td>\n",
              "    </tr>\n",
              "    <tr>\n",
              "      <th>phys_health_interview</th>\n",
              "      <td>Maybe</td>\n",
              "    </tr>\n",
              "    <tr>\n",
              "      <th>mental_vs_physical</th>\n",
              "      <td>Yes</td>\n",
              "    </tr>\n",
              "    <tr>\n",
              "      <th>obs_consequence</th>\n",
              "      <td>0</td>\n",
              "    </tr>\n",
              "  </tbody>\n",
              "</table>\n",
              "</div>"
            ],
            "text/plain": [
              "                                       0\n",
              "age                                   37\n",
              "gender                                 0\n",
              "self_employed                          0\n",
              "family_history                         0\n",
              "treatment                              1\n",
              "work_interfere                     Often\n",
              "no_employees                           6\n",
              "remote_work                            0\n",
              "tech_company                           1\n",
              "benefits                             Yes\n",
              "care_options                    Not sure\n",
              "wellness_program                      No\n",
              "seek_help                            Yes\n",
              "anonymity                            Yes\n",
              "leave                      Somewhat easy\n",
              "mental_health_consequence             No\n",
              "phys_health_consequence               No\n",
              "coworkers                   Some of them\n",
              "supervisor                           Yes\n",
              "mental_health_interview               No\n",
              "phys_health_interview              Maybe\n",
              "mental_vs_physical                   Yes\n",
              "obs_consequence                        0"
            ]
          },
          "execution_count": 84,
          "metadata": {},
          "output_type": "execute_result"
        }
      ],
      "source": [
        "data.head(1).T"
      ]
    },
    {
      "cell_type": "markdown",
      "id": "c85b653c",
      "metadata": {
        "id": "c85b653c"
      },
      "source": [
        "now we see that some columns has been converted to int  "
      ]
    },
    {
      "cell_type": "code",
      "execution_count": 85,
      "id": "e287e3a9",
      "metadata": {
        "colab": {
          "base_uri": "https://localhost:8080/"
        },
        "id": "e287e3a9",
        "outputId": "494dfd00-8db9-4f24-dae1-a741cfe4ce7f"
      },
      "outputs": [
        {
          "data": {
            "text/plain": [
              "(953, 54)"
            ]
          },
          "execution_count": 85,
          "metadata": {},
          "output_type": "execute_result"
        }
      ],
      "source": [
        "#checking what will be the shape if we did one hot encoding\n",
        "pd.get_dummies(data).shape"
      ]
    },
    {
      "cell_type": "markdown",
      "id": "3e8facc9",
      "metadata": {
        "id": "3e8facc9"
      },
      "source": [
        "we need to calculate number of don't know values to decide what to do"
      ]
    },
    {
      "cell_type": "code",
      "execution_count": 86,
      "id": "9cf04d2e",
      "metadata": {
        "colab": {
          "base_uri": "https://localhost:8080/"
        },
        "id": "9cf04d2e",
        "outputId": "842c492b-ae5f-472c-8169-8b1c2a440884"
      },
      "outputs": [
        {
          "name": "stdout",
          "output_type": "stream",
          "text": [
            "age has 0 'don't know' values\n",
            "gender has 0 'don't know' values\n",
            "self_employed has 0 'don't know' values\n",
            "family_history has 0 'don't know' values\n",
            "treatment has 0 'don't know' values\n",
            "work_interfere has 0 'don't know' values\n",
            "no_employees has 0 'don't know' values\n",
            "remote_work has 0 'don't know' values\n",
            "tech_company has 0 'don't know' values\n",
            "benefits has 286 'don't know' values\n",
            "care_options has 0 'don't know' values\n",
            "wellness_program has 133 'don't know' values\n",
            "seek_help has 267 'don't know' values\n",
            "anonymity has 610 'don't know' values\n",
            "leave has 408 'don't know' values\n",
            "mental_health_consequence has 0 'don't know' values\n",
            "phys_health_consequence has 0 'don't know' values\n",
            "coworkers has 0 'don't know' values\n",
            "supervisor has 0 'don't know' values\n",
            "mental_health_interview has 0 'don't know' values\n",
            "phys_health_interview has 0 'don't know' values\n",
            "mental_vs_physical has 424 'don't know' values\n",
            "obs_consequence has 0 'don't know' values\n"
          ]
        }
      ],
      "source": [
        "for col in col_names:\n",
        "    num_dont_know = sum(data[col] == \"Don't know\")\n",
        "    print(f\"{col} has {num_dont_know} 'don't know' values\")\n",
        "\n",
        "## or data['col'].value_counts() will give us an over view for the data of the column"
      ]
    },
    {
      "cell_type": "markdown",
      "id": "0e9ce172",
      "metadata": {
        "id": "0e9ce172"
      },
      "source": [
        "there are a lot of them , so we cannot drop it"
      ]
    },
    {
      "cell_type": "code",
      "execution_count": 87,
      "id": "82e21603",
      "metadata": {
        "id": "82e21603"
      },
      "outputs": [],
      "source": [
        "# Select the string columns to do one hot encoding\n",
        "strr = data.dtypes == object\n",
        "s_cols = data.columns[strr]"
      ]
    },
    {
      "cell_type": "code",
      "execution_count": 88,
      "id": "6293e116",
      "metadata": {
        "colab": {
          "base_uri": "https://localhost:8080/"
        },
        "id": "6293e116",
        "outputId": "878df0ba-4409-4d97-93d6-d11e9b8b5c87"
      },
      "outputs": [
        {
          "data": {
            "text/plain": [
              "31"
            ]
          },
          "execution_count": 88,
          "metadata": {},
          "output_type": "execute_result"
        }
      ],
      "source": [
        "ex_cols = (data[s_cols]\n",
        "                .apply(lambda x: x.nunique())\n",
        "                .sort_values(ascending=False))\n",
        "'''apply(lambda x: x.nunique()) applies the nunique() method to each column in the selected subset\n",
        "and returns a pandas Series with the number of unique values in each column.'''\n",
        "ex_cols -= 1\n",
        "ex_cols.sum()\n",
        "#number of additional cols"
      ]
    },
    {
      "cell_type": "code",
      "execution_count": 89,
      "id": "d029d10b",
      "metadata": {
        "colab": {
          "base_uri": "https://localhost:8080/"
        },
        "id": "d029d10b",
        "outputId": "997794a8-4953-4e14-a968-06c131d504fc"
      },
      "outputs": [
        {
          "data": {
            "text/plain": [
              "Index(['leave', 'work_interfere', 'benefits', 'care_options',\n",
              "       'wellness_program', 'seek_help', 'anonymity',\n",
              "       'mental_health_consequence', 'phys_health_consequence', 'coworkers',\n",
              "       'supervisor', 'mental_health_interview', 'phys_health_interview',\n",
              "       'mental_vs_physical'],\n",
              "      dtype='object')"
            ]
          },
          "execution_count": 89,
          "metadata": {},
          "output_type": "execute_result"
        }
      ],
      "source": [
        "ex_cols\n",
        "## to get the columns names u can try (ex_cols.index)\n",
        "ex_cols.index\n"
      ]
    },
    {
      "cell_type": "code",
      "execution_count": 90,
      "id": "d5b83ea5",
      "metadata": {
        "id": "d5b83ea5"
      },
      "outputs": [],
      "source": [
        "from sklearn.preprocessing import LabelEncoder, OneHotEncoder"
      ]
    },
    {
      "cell_type": "code",
      "execution_count": 91,
      "id": "5fe29eef",
      "metadata": {
        "id": "5fe29eef"
      },
      "outputs": [],
      "source": [
        "data_copy = data.copy()"
      ]
    },
    {
      "cell_type": "code",
      "execution_count": 92,
      "id": "fc0a95f9",
      "metadata": {
        "id": "fc0a95f9"
      },
      "outputs": [],
      "source": [
        "#one hot encoding\n",
        "#first we willl loop over all columns that must be encoded\n",
        "for col in ex_cols.index:\n",
        "    #first we will apply label encoder to assign unique number for each value\n",
        "    col_x = LabelEncoder().fit_transform(data[col]).astype(int)\n",
        "    #now we have to drop the column that will be replaced with some columns one for each value\n",
        "    data_copy = data_copy.drop(col,axis=1)\n",
        "    #now we apply one hot encoder on the selected column\n",
        "    new_x = OneHotEncoder().fit_transform(col_x.reshape(-1,1))\n",
        "    # we need to calculates the number of new columns\n",
        "    n_new_x = new_x.shape[1]\n",
        "    #givig each new column a nuique name\n",
        "    name_new_x = ['_'.join([col, str(h)]) for h in range(n_new_x)]\n",
        "    #create the new columns data frame\n",
        "    new_df = pd.DataFrame(new_x.toarray(),index=data_copy.index,columns=name_new_x)\n",
        "    #concatinate the new columns with the data\n",
        "    data_copy = pd.concat([data_copy,new_df],axis=1)"
      ]
    },
    {
      "cell_type": "code",
      "execution_count": 93,
      "id": "d28c890e",
      "metadata": {
        "colab": {
          "base_uri": "https://localhost:8080/",
          "height": 443
        },
        "id": "d28c890e",
        "outputId": "b39f385e-5820-48aa-f34c-1b2888e7445d"
      },
      "outputs": [
        {
          "data": {
            "text/html": [
              "<div>\n",
              "<style scoped>\n",
              "    .dataframe tbody tr th:only-of-type {\n",
              "        vertical-align: middle;\n",
              "    }\n",
              "\n",
              "    .dataframe tbody tr th {\n",
              "        vertical-align: top;\n",
              "    }\n",
              "\n",
              "    .dataframe thead th {\n",
              "        text-align: right;\n",
              "    }\n",
              "</style>\n",
              "<table border=\"1\" class=\"dataframe\">\n",
              "  <thead>\n",
              "    <tr style=\"text-align: right;\">\n",
              "      <th></th>\n",
              "      <th>age</th>\n",
              "      <th>gender</th>\n",
              "      <th>self_employed</th>\n",
              "      <th>family_history</th>\n",
              "      <th>treatment</th>\n",
              "      <th>no_employees</th>\n",
              "      <th>remote_work</th>\n",
              "      <th>tech_company</th>\n",
              "      <th>obs_consequence</th>\n",
              "      <th>leave_0</th>\n",
              "      <th>...</th>\n",
              "      <th>supervisor_2</th>\n",
              "      <th>mental_health_interview_0</th>\n",
              "      <th>mental_health_interview_1</th>\n",
              "      <th>mental_health_interview_2</th>\n",
              "      <th>phys_health_interview_0</th>\n",
              "      <th>phys_health_interview_1</th>\n",
              "      <th>phys_health_interview_2</th>\n",
              "      <th>mental_vs_physical_0</th>\n",
              "      <th>mental_vs_physical_1</th>\n",
              "      <th>mental_vs_physical_2</th>\n",
              "    </tr>\n",
              "  </thead>\n",
              "  <tbody>\n",
              "    <tr>\n",
              "      <th>0</th>\n",
              "      <td>37</td>\n",
              "      <td>0</td>\n",
              "      <td>0</td>\n",
              "      <td>0</td>\n",
              "      <td>1</td>\n",
              "      <td>6</td>\n",
              "      <td>0</td>\n",
              "      <td>1</td>\n",
              "      <td>0</td>\n",
              "      <td>0.0</td>\n",
              "      <td>...</td>\n",
              "      <td>1.0</td>\n",
              "      <td>0.0</td>\n",
              "      <td>1.0</td>\n",
              "      <td>0.0</td>\n",
              "      <td>1.0</td>\n",
              "      <td>0.0</td>\n",
              "      <td>0.0</td>\n",
              "      <td>0.0</td>\n",
              "      <td>0.0</td>\n",
              "      <td>1.0</td>\n",
              "    </tr>\n",
              "    <tr>\n",
              "      <th>1</th>\n",
              "      <td>44</td>\n",
              "      <td>1</td>\n",
              "      <td>0</td>\n",
              "      <td>0</td>\n",
              "      <td>0</td>\n",
              "      <td>1000</td>\n",
              "      <td>0</td>\n",
              "      <td>0</td>\n",
              "      <td>0</td>\n",
              "      <td>1.0</td>\n",
              "      <td>...</td>\n",
              "      <td>0.0</td>\n",
              "      <td>0.0</td>\n",
              "      <td>1.0</td>\n",
              "      <td>0.0</td>\n",
              "      <td>0.0</td>\n",
              "      <td>1.0</td>\n",
              "      <td>0.0</td>\n",
              "      <td>1.0</td>\n",
              "      <td>0.0</td>\n",
              "      <td>0.0</td>\n",
              "    </tr>\n",
              "    <tr>\n",
              "      <th>2</th>\n",
              "      <td>32</td>\n",
              "      <td>1</td>\n",
              "      <td>0</td>\n",
              "      <td>0</td>\n",
              "      <td>0</td>\n",
              "      <td>6</td>\n",
              "      <td>0</td>\n",
              "      <td>1</td>\n",
              "      <td>0</td>\n",
              "      <td>0.0</td>\n",
              "      <td>...</td>\n",
              "      <td>1.0</td>\n",
              "      <td>0.0</td>\n",
              "      <td>0.0</td>\n",
              "      <td>1.0</td>\n",
              "      <td>0.0</td>\n",
              "      <td>0.0</td>\n",
              "      <td>1.0</td>\n",
              "      <td>0.0</td>\n",
              "      <td>1.0</td>\n",
              "      <td>0.0</td>\n",
              "    </tr>\n",
              "    <tr>\n",
              "      <th>3</th>\n",
              "      <td>31</td>\n",
              "      <td>1</td>\n",
              "      <td>0</td>\n",
              "      <td>1</td>\n",
              "      <td>1</td>\n",
              "      <td>26</td>\n",
              "      <td>0</td>\n",
              "      <td>1</td>\n",
              "      <td>1</td>\n",
              "      <td>0.0</td>\n",
              "      <td>...</td>\n",
              "      <td>0.0</td>\n",
              "      <td>1.0</td>\n",
              "      <td>0.0</td>\n",
              "      <td>0.0</td>\n",
              "      <td>1.0</td>\n",
              "      <td>0.0</td>\n",
              "      <td>0.0</td>\n",
              "      <td>0.0</td>\n",
              "      <td>1.0</td>\n",
              "      <td>0.0</td>\n",
              "    </tr>\n",
              "    <tr>\n",
              "      <th>4</th>\n",
              "      <td>31</td>\n",
              "      <td>1</td>\n",
              "      <td>0</td>\n",
              "      <td>0</td>\n",
              "      <td>0</td>\n",
              "      <td>100</td>\n",
              "      <td>1</td>\n",
              "      <td>1</td>\n",
              "      <td>0</td>\n",
              "      <td>1.0</td>\n",
              "      <td>...</td>\n",
              "      <td>1.0</td>\n",
              "      <td>0.0</td>\n",
              "      <td>0.0</td>\n",
              "      <td>1.0</td>\n",
              "      <td>0.0</td>\n",
              "      <td>0.0</td>\n",
              "      <td>1.0</td>\n",
              "      <td>1.0</td>\n",
              "      <td>0.0</td>\n",
              "      <td>0.0</td>\n",
              "    </tr>\n",
              "    <tr>\n",
              "      <th>...</th>\n",
              "      <td>...</td>\n",
              "      <td>...</td>\n",
              "      <td>...</td>\n",
              "      <td>...</td>\n",
              "      <td>...</td>\n",
              "      <td>...</td>\n",
              "      <td>...</td>\n",
              "      <td>...</td>\n",
              "      <td>...</td>\n",
              "      <td>...</td>\n",
              "      <td>...</td>\n",
              "      <td>...</td>\n",
              "      <td>...</td>\n",
              "      <td>...</td>\n",
              "      <td>...</td>\n",
              "      <td>...</td>\n",
              "      <td>...</td>\n",
              "      <td>...</td>\n",
              "      <td>...</td>\n",
              "      <td>...</td>\n",
              "      <td>...</td>\n",
              "    </tr>\n",
              "    <tr>\n",
              "      <th>1252</th>\n",
              "      <td>29</td>\n",
              "      <td>1</td>\n",
              "      <td>0</td>\n",
              "      <td>1</td>\n",
              "      <td>1</td>\n",
              "      <td>100</td>\n",
              "      <td>1</td>\n",
              "      <td>1</td>\n",
              "      <td>0</td>\n",
              "      <td>1.0</td>\n",
              "      <td>...</td>\n",
              "      <td>0.0</td>\n",
              "      <td>0.0</td>\n",
              "      <td>1.0</td>\n",
              "      <td>0.0</td>\n",
              "      <td>1.0</td>\n",
              "      <td>0.0</td>\n",
              "      <td>0.0</td>\n",
              "      <td>0.0</td>\n",
              "      <td>1.0</td>\n",
              "      <td>0.0</td>\n",
              "    </tr>\n",
              "    <tr>\n",
              "      <th>1253</th>\n",
              "      <td>36</td>\n",
              "      <td>1</td>\n",
              "      <td>0</td>\n",
              "      <td>1</td>\n",
              "      <td>0</td>\n",
              "      <td>1000</td>\n",
              "      <td>0</td>\n",
              "      <td>0</td>\n",
              "      <td>0</td>\n",
              "      <td>0.0</td>\n",
              "      <td>...</td>\n",
              "      <td>0.0</td>\n",
              "      <td>0.0</td>\n",
              "      <td>1.0</td>\n",
              "      <td>0.0</td>\n",
              "      <td>0.0</td>\n",
              "      <td>1.0</td>\n",
              "      <td>0.0</td>\n",
              "      <td>1.0</td>\n",
              "      <td>0.0</td>\n",
              "      <td>0.0</td>\n",
              "    </tr>\n",
              "    <tr>\n",
              "      <th>1255</th>\n",
              "      <td>32</td>\n",
              "      <td>1</td>\n",
              "      <td>0</td>\n",
              "      <td>1</td>\n",
              "      <td>1</td>\n",
              "      <td>26</td>\n",
              "      <td>1</td>\n",
              "      <td>1</td>\n",
              "      <td>0</td>\n",
              "      <td>0.0</td>\n",
              "      <td>...</td>\n",
              "      <td>1.0</td>\n",
              "      <td>0.0</td>\n",
              "      <td>1.0</td>\n",
              "      <td>0.0</td>\n",
              "      <td>0.0</td>\n",
              "      <td>1.0</td>\n",
              "      <td>0.0</td>\n",
              "      <td>0.0</td>\n",
              "      <td>0.0</td>\n",
              "      <td>1.0</td>\n",
              "    </tr>\n",
              "    <tr>\n",
              "      <th>1256</th>\n",
              "      <td>34</td>\n",
              "      <td>1</td>\n",
              "      <td>0</td>\n",
              "      <td>1</td>\n",
              "      <td>1</td>\n",
              "      <td>1000</td>\n",
              "      <td>0</td>\n",
              "      <td>1</td>\n",
              "      <td>0</td>\n",
              "      <td>0.0</td>\n",
              "      <td>...</td>\n",
              "      <td>0.0</td>\n",
              "      <td>0.0</td>\n",
              "      <td>1.0</td>\n",
              "      <td>0.0</td>\n",
              "      <td>0.0</td>\n",
              "      <td>1.0</td>\n",
              "      <td>0.0</td>\n",
              "      <td>0.0</td>\n",
              "      <td>1.0</td>\n",
              "      <td>0.0</td>\n",
              "    </tr>\n",
              "    <tr>\n",
              "      <th>1258</th>\n",
              "      <td>25</td>\n",
              "      <td>1</td>\n",
              "      <td>0</td>\n",
              "      <td>1</td>\n",
              "      <td>1</td>\n",
              "      <td>26</td>\n",
              "      <td>0</td>\n",
              "      <td>0</td>\n",
              "      <td>0</td>\n",
              "      <td>1.0</td>\n",
              "      <td>...</td>\n",
              "      <td>0.0</td>\n",
              "      <td>0.0</td>\n",
              "      <td>1.0</td>\n",
              "      <td>0.0</td>\n",
              "      <td>0.0</td>\n",
              "      <td>1.0</td>\n",
              "      <td>0.0</td>\n",
              "      <td>1.0</td>\n",
              "      <td>0.0</td>\n",
              "      <td>0.0</td>\n",
              "    </tr>\n",
              "  </tbody>\n",
              "</table>\n",
              "<p>953 rows × 54 columns</p>\n",
              "</div>"
            ],
            "text/plain": [
              "      age  gender  self_employed  family_history  treatment  no_employees  \\\n",
              "0      37       0              0               0          1             6   \n",
              "1      44       1              0               0          0          1000   \n",
              "2      32       1              0               0          0             6   \n",
              "3      31       1              0               1          1            26   \n",
              "4      31       1              0               0          0           100   \n",
              "...   ...     ...            ...             ...        ...           ...   \n",
              "1252   29       1              0               1          1           100   \n",
              "1253   36       1              0               1          0          1000   \n",
              "1255   32       1              0               1          1            26   \n",
              "1256   34       1              0               1          1          1000   \n",
              "1258   25       1              0               1          1            26   \n",
              "\n",
              "      remote_work  tech_company  obs_consequence  leave_0  ...  supervisor_2  \\\n",
              "0               0             1                0      0.0  ...           1.0   \n",
              "1               0             0                0      1.0  ...           0.0   \n",
              "2               0             1                0      0.0  ...           1.0   \n",
              "3               0             1                1      0.0  ...           0.0   \n",
              "4               1             1                0      1.0  ...           1.0   \n",
              "...           ...           ...              ...      ...  ...           ...   \n",
              "1252            1             1                0      1.0  ...           0.0   \n",
              "1253            0             0                0      0.0  ...           0.0   \n",
              "1255            1             1                0      0.0  ...           1.0   \n",
              "1256            0             1                0      0.0  ...           0.0   \n",
              "1258            0             0                0      1.0  ...           0.0   \n",
              "\n",
              "      mental_health_interview_0  mental_health_interview_1  \\\n",
              "0                           0.0                        1.0   \n",
              "1                           0.0                        1.0   \n",
              "2                           0.0                        0.0   \n",
              "3                           1.0                        0.0   \n",
              "4                           0.0                        0.0   \n",
              "...                         ...                        ...   \n",
              "1252                        0.0                        1.0   \n",
              "1253                        0.0                        1.0   \n",
              "1255                        0.0                        1.0   \n",
              "1256                        0.0                        1.0   \n",
              "1258                        0.0                        1.0   \n",
              "\n",
              "      mental_health_interview_2  phys_health_interview_0  \\\n",
              "0                           0.0                      1.0   \n",
              "1                           0.0                      0.0   \n",
              "2                           1.0                      0.0   \n",
              "3                           0.0                      1.0   \n",
              "4                           1.0                      0.0   \n",
              "...                         ...                      ...   \n",
              "1252                        0.0                      1.0   \n",
              "1253                        0.0                      0.0   \n",
              "1255                        0.0                      0.0   \n",
              "1256                        0.0                      0.0   \n",
              "1258                        0.0                      0.0   \n",
              "\n",
              "      phys_health_interview_1  phys_health_interview_2  mental_vs_physical_0  \\\n",
              "0                         0.0                      0.0                   0.0   \n",
              "1                         1.0                      0.0                   1.0   \n",
              "2                         0.0                      1.0                   0.0   \n",
              "3                         0.0                      0.0                   0.0   \n",
              "4                         0.0                      1.0                   1.0   \n",
              "...                       ...                      ...                   ...   \n",
              "1252                      0.0                      0.0                   0.0   \n",
              "1253                      1.0                      0.0                   1.0   \n",
              "1255                      1.0                      0.0                   0.0   \n",
              "1256                      1.0                      0.0                   0.0   \n",
              "1258                      1.0                      0.0                   1.0   \n",
              "\n",
              "      mental_vs_physical_1  mental_vs_physical_2  \n",
              "0                      0.0                   1.0  \n",
              "1                      0.0                   0.0  \n",
              "2                      1.0                   0.0  \n",
              "3                      1.0                   0.0  \n",
              "4                      0.0                   0.0  \n",
              "...                    ...                   ...  \n",
              "1252                   1.0                   0.0  \n",
              "1253                   0.0                   0.0  \n",
              "1255                   0.0                   1.0  \n",
              "1256                   1.0                   0.0  \n",
              "1258                   0.0                   0.0  \n",
              "\n",
              "[953 rows x 54 columns]"
            ]
          },
          "execution_count": 93,
          "metadata": {},
          "output_type": "execute_result"
        }
      ],
      "source": [
        "#priint data after one hot encoding\n",
        "data_copy"
      ]
    },
    {
      "cell_type": "code",
      "execution_count": 94,
      "id": "84705435",
      "metadata": {
        "colab": {
          "base_uri": "https://localhost:8080/",
          "height": 461
        },
        "id": "84705435",
        "outputId": "e6df46e3-95d5-42a6-e993-529e16353019"
      },
      "outputs": [
        {
          "data": {
            "text/html": [
              "<div>\n",
              "<style scoped>\n",
              "    .dataframe tbody tr th:only-of-type {\n",
              "        vertical-align: middle;\n",
              "    }\n",
              "\n",
              "    .dataframe tbody tr th {\n",
              "        vertical-align: top;\n",
              "    }\n",
              "\n",
              "    .dataframe thead th {\n",
              "        text-align: right;\n",
              "    }\n",
              "</style>\n",
              "<table border=\"1\" class=\"dataframe\">\n",
              "  <thead>\n",
              "    <tr style=\"text-align: right;\">\n",
              "      <th></th>\n",
              "      <th>age</th>\n",
              "      <th>gender</th>\n",
              "      <th>self_employed</th>\n",
              "      <th>family_history</th>\n",
              "      <th>treatment</th>\n",
              "      <th>no_employees</th>\n",
              "      <th>remote_work</th>\n",
              "      <th>tech_company</th>\n",
              "      <th>obs_consequence</th>\n",
              "      <th>age</th>\n",
              "      <th>...</th>\n",
              "      <th>supervisor_Yes</th>\n",
              "      <th>mental_health_interview_Maybe</th>\n",
              "      <th>mental_health_interview_No</th>\n",
              "      <th>mental_health_interview_Yes</th>\n",
              "      <th>phys_health_interview_Maybe</th>\n",
              "      <th>phys_health_interview_No</th>\n",
              "      <th>phys_health_interview_Yes</th>\n",
              "      <th>mental_vs_physical_Don't know</th>\n",
              "      <th>mental_vs_physical_No</th>\n",
              "      <th>mental_vs_physical_Yes</th>\n",
              "    </tr>\n",
              "  </thead>\n",
              "  <tbody>\n",
              "    <tr>\n",
              "      <th>0</th>\n",
              "      <td>37</td>\n",
              "      <td>0</td>\n",
              "      <td>0</td>\n",
              "      <td>0</td>\n",
              "      <td>1</td>\n",
              "      <td>6</td>\n",
              "      <td>0</td>\n",
              "      <td>1</td>\n",
              "      <td>0</td>\n",
              "      <td>37</td>\n",
              "      <td>...</td>\n",
              "      <td>1</td>\n",
              "      <td>0</td>\n",
              "      <td>1</td>\n",
              "      <td>0</td>\n",
              "      <td>1</td>\n",
              "      <td>0</td>\n",
              "      <td>0</td>\n",
              "      <td>0</td>\n",
              "      <td>0</td>\n",
              "      <td>1</td>\n",
              "    </tr>\n",
              "    <tr>\n",
              "      <th>1</th>\n",
              "      <td>44</td>\n",
              "      <td>1</td>\n",
              "      <td>0</td>\n",
              "      <td>0</td>\n",
              "      <td>0</td>\n",
              "      <td>1000</td>\n",
              "      <td>0</td>\n",
              "      <td>0</td>\n",
              "      <td>0</td>\n",
              "      <td>44</td>\n",
              "      <td>...</td>\n",
              "      <td>0</td>\n",
              "      <td>0</td>\n",
              "      <td>1</td>\n",
              "      <td>0</td>\n",
              "      <td>0</td>\n",
              "      <td>1</td>\n",
              "      <td>0</td>\n",
              "      <td>1</td>\n",
              "      <td>0</td>\n",
              "      <td>0</td>\n",
              "    </tr>\n",
              "    <tr>\n",
              "      <th>2</th>\n",
              "      <td>32</td>\n",
              "      <td>1</td>\n",
              "      <td>0</td>\n",
              "      <td>0</td>\n",
              "      <td>0</td>\n",
              "      <td>6</td>\n",
              "      <td>0</td>\n",
              "      <td>1</td>\n",
              "      <td>0</td>\n",
              "      <td>32</td>\n",
              "      <td>...</td>\n",
              "      <td>1</td>\n",
              "      <td>0</td>\n",
              "      <td>0</td>\n",
              "      <td>1</td>\n",
              "      <td>0</td>\n",
              "      <td>0</td>\n",
              "      <td>1</td>\n",
              "      <td>0</td>\n",
              "      <td>1</td>\n",
              "      <td>0</td>\n",
              "    </tr>\n",
              "    <tr>\n",
              "      <th>3</th>\n",
              "      <td>31</td>\n",
              "      <td>1</td>\n",
              "      <td>0</td>\n",
              "      <td>1</td>\n",
              "      <td>1</td>\n",
              "      <td>26</td>\n",
              "      <td>0</td>\n",
              "      <td>1</td>\n",
              "      <td>1</td>\n",
              "      <td>31</td>\n",
              "      <td>...</td>\n",
              "      <td>0</td>\n",
              "      <td>1</td>\n",
              "      <td>0</td>\n",
              "      <td>0</td>\n",
              "      <td>1</td>\n",
              "      <td>0</td>\n",
              "      <td>0</td>\n",
              "      <td>0</td>\n",
              "      <td>1</td>\n",
              "      <td>0</td>\n",
              "    </tr>\n",
              "    <tr>\n",
              "      <th>4</th>\n",
              "      <td>31</td>\n",
              "      <td>1</td>\n",
              "      <td>0</td>\n",
              "      <td>0</td>\n",
              "      <td>0</td>\n",
              "      <td>100</td>\n",
              "      <td>1</td>\n",
              "      <td>1</td>\n",
              "      <td>0</td>\n",
              "      <td>31</td>\n",
              "      <td>...</td>\n",
              "      <td>1</td>\n",
              "      <td>0</td>\n",
              "      <td>0</td>\n",
              "      <td>1</td>\n",
              "      <td>0</td>\n",
              "      <td>0</td>\n",
              "      <td>1</td>\n",
              "      <td>1</td>\n",
              "      <td>0</td>\n",
              "      <td>0</td>\n",
              "    </tr>\n",
              "    <tr>\n",
              "      <th>...</th>\n",
              "      <td>...</td>\n",
              "      <td>...</td>\n",
              "      <td>...</td>\n",
              "      <td>...</td>\n",
              "      <td>...</td>\n",
              "      <td>...</td>\n",
              "      <td>...</td>\n",
              "      <td>...</td>\n",
              "      <td>...</td>\n",
              "      <td>...</td>\n",
              "      <td>...</td>\n",
              "      <td>...</td>\n",
              "      <td>...</td>\n",
              "      <td>...</td>\n",
              "      <td>...</td>\n",
              "      <td>...</td>\n",
              "      <td>...</td>\n",
              "      <td>...</td>\n",
              "      <td>...</td>\n",
              "      <td>...</td>\n",
              "      <td>...</td>\n",
              "    </tr>\n",
              "    <tr>\n",
              "      <th>1252</th>\n",
              "      <td>29</td>\n",
              "      <td>1</td>\n",
              "      <td>0</td>\n",
              "      <td>1</td>\n",
              "      <td>1</td>\n",
              "      <td>100</td>\n",
              "      <td>1</td>\n",
              "      <td>1</td>\n",
              "      <td>0</td>\n",
              "      <td>29</td>\n",
              "      <td>...</td>\n",
              "      <td>0</td>\n",
              "      <td>0</td>\n",
              "      <td>1</td>\n",
              "      <td>0</td>\n",
              "      <td>1</td>\n",
              "      <td>0</td>\n",
              "      <td>0</td>\n",
              "      <td>0</td>\n",
              "      <td>1</td>\n",
              "      <td>0</td>\n",
              "    </tr>\n",
              "    <tr>\n",
              "      <th>1253</th>\n",
              "      <td>36</td>\n",
              "      <td>1</td>\n",
              "      <td>0</td>\n",
              "      <td>1</td>\n",
              "      <td>0</td>\n",
              "      <td>1000</td>\n",
              "      <td>0</td>\n",
              "      <td>0</td>\n",
              "      <td>0</td>\n",
              "      <td>36</td>\n",
              "      <td>...</td>\n",
              "      <td>0</td>\n",
              "      <td>0</td>\n",
              "      <td>1</td>\n",
              "      <td>0</td>\n",
              "      <td>0</td>\n",
              "      <td>1</td>\n",
              "      <td>0</td>\n",
              "      <td>1</td>\n",
              "      <td>0</td>\n",
              "      <td>0</td>\n",
              "    </tr>\n",
              "    <tr>\n",
              "      <th>1255</th>\n",
              "      <td>32</td>\n",
              "      <td>1</td>\n",
              "      <td>0</td>\n",
              "      <td>1</td>\n",
              "      <td>1</td>\n",
              "      <td>26</td>\n",
              "      <td>1</td>\n",
              "      <td>1</td>\n",
              "      <td>0</td>\n",
              "      <td>32</td>\n",
              "      <td>...</td>\n",
              "      <td>1</td>\n",
              "      <td>0</td>\n",
              "      <td>1</td>\n",
              "      <td>0</td>\n",
              "      <td>0</td>\n",
              "      <td>1</td>\n",
              "      <td>0</td>\n",
              "      <td>0</td>\n",
              "      <td>0</td>\n",
              "      <td>1</td>\n",
              "    </tr>\n",
              "    <tr>\n",
              "      <th>1256</th>\n",
              "      <td>34</td>\n",
              "      <td>1</td>\n",
              "      <td>0</td>\n",
              "      <td>1</td>\n",
              "      <td>1</td>\n",
              "      <td>1000</td>\n",
              "      <td>0</td>\n",
              "      <td>1</td>\n",
              "      <td>0</td>\n",
              "      <td>34</td>\n",
              "      <td>...</td>\n",
              "      <td>0</td>\n",
              "      <td>0</td>\n",
              "      <td>1</td>\n",
              "      <td>0</td>\n",
              "      <td>0</td>\n",
              "      <td>1</td>\n",
              "      <td>0</td>\n",
              "      <td>0</td>\n",
              "      <td>1</td>\n",
              "      <td>0</td>\n",
              "    </tr>\n",
              "    <tr>\n",
              "      <th>1258</th>\n",
              "      <td>25</td>\n",
              "      <td>1</td>\n",
              "      <td>0</td>\n",
              "      <td>1</td>\n",
              "      <td>1</td>\n",
              "      <td>26</td>\n",
              "      <td>0</td>\n",
              "      <td>0</td>\n",
              "      <td>0</td>\n",
              "      <td>25</td>\n",
              "      <td>...</td>\n",
              "      <td>0</td>\n",
              "      <td>0</td>\n",
              "      <td>1</td>\n",
              "      <td>0</td>\n",
              "      <td>0</td>\n",
              "      <td>1</td>\n",
              "      <td>0</td>\n",
              "      <td>1</td>\n",
              "      <td>0</td>\n",
              "      <td>0</td>\n",
              "    </tr>\n",
              "  </tbody>\n",
              "</table>\n",
              "<p>953 rows × 63 columns</p>\n",
              "</div>"
            ],
            "text/plain": [
              "      age  gender  self_employed  family_history  treatment  no_employees  \\\n",
              "0      37       0              0               0          1             6   \n",
              "1      44       1              0               0          0          1000   \n",
              "2      32       1              0               0          0             6   \n",
              "3      31       1              0               1          1            26   \n",
              "4      31       1              0               0          0           100   \n",
              "...   ...     ...            ...             ...        ...           ...   \n",
              "1252   29       1              0               1          1           100   \n",
              "1253   36       1              0               1          0          1000   \n",
              "1255   32       1              0               1          1            26   \n",
              "1256   34       1              0               1          1          1000   \n",
              "1258   25       1              0               1          1            26   \n",
              "\n",
              "      remote_work  tech_company  obs_consequence  age  ...  supervisor_Yes  \\\n",
              "0               0             1                0   37  ...               1   \n",
              "1               0             0                0   44  ...               0   \n",
              "2               0             1                0   32  ...               1   \n",
              "3               0             1                1   31  ...               0   \n",
              "4               1             1                0   31  ...               1   \n",
              "...           ...           ...              ...  ...  ...             ...   \n",
              "1252            1             1                0   29  ...               0   \n",
              "1253            0             0                0   36  ...               0   \n",
              "1255            1             1                0   32  ...               1   \n",
              "1256            0             1                0   34  ...               0   \n",
              "1258            0             0                0   25  ...               0   \n",
              "\n",
              "      mental_health_interview_Maybe  mental_health_interview_No  \\\n",
              "0                                 0                           1   \n",
              "1                                 0                           1   \n",
              "2                                 0                           0   \n",
              "3                                 1                           0   \n",
              "4                                 0                           0   \n",
              "...                             ...                         ...   \n",
              "1252                              0                           1   \n",
              "1253                              0                           1   \n",
              "1255                              0                           1   \n",
              "1256                              0                           1   \n",
              "1258                              0                           1   \n",
              "\n",
              "      mental_health_interview_Yes  phys_health_interview_Maybe  \\\n",
              "0                               0                            1   \n",
              "1                               0                            0   \n",
              "2                               1                            0   \n",
              "3                               0                            1   \n",
              "4                               1                            0   \n",
              "...                           ...                          ...   \n",
              "1252                            0                            1   \n",
              "1253                            0                            0   \n",
              "1255                            0                            0   \n",
              "1256                            0                            0   \n",
              "1258                            0                            0   \n",
              "\n",
              "      phys_health_interview_No  phys_health_interview_Yes  \\\n",
              "0                            0                          0   \n",
              "1                            1                          0   \n",
              "2                            0                          1   \n",
              "3                            0                          0   \n",
              "4                            0                          1   \n",
              "...                        ...                        ...   \n",
              "1252                         0                          0   \n",
              "1253                         1                          0   \n",
              "1255                         1                          0   \n",
              "1256                         1                          0   \n",
              "1258                         1                          0   \n",
              "\n",
              "      mental_vs_physical_Don't know  mental_vs_physical_No  \\\n",
              "0                                 0                      0   \n",
              "1                                 1                      0   \n",
              "2                                 0                      1   \n",
              "3                                 0                      1   \n",
              "4                                 1                      0   \n",
              "...                             ...                    ...   \n",
              "1252                              0                      1   \n",
              "1253                              1                      0   \n",
              "1255                              0                      0   \n",
              "1256                              0                      1   \n",
              "1258                              1                      0   \n",
              "\n",
              "      mental_vs_physical_Yes  \n",
              "0                          1  \n",
              "1                          0  \n",
              "2                          0  \n",
              "3                          0  \n",
              "4                          0  \n",
              "...                      ...  \n",
              "1252                       0  \n",
              "1253                       0  \n",
              "1255                       1  \n",
              "1256                       0  \n",
              "1258                       0  \n",
              "\n",
              "[953 rows x 63 columns]"
            ]
          },
          "execution_count": 94,
          "metadata": {},
          "output_type": "execute_result"
        }
      ],
      "source": [
        "##another way for one hot encoding\n",
        "\n",
        "encoded_data = pd.get_dummies(data)\n",
        "encoded_data\n",
        "# this function get dummies apply one hot encoding to all of the categorical columns in the dataset\n",
        "\n",
        "encoded_cols = list(encoded_data.columns)\n",
        "data_2 = pd.concat([data, encoded_data], axis=1)\n",
        "'''now we concatenated the encoded data with the original data\n",
        "so the original column and the encoded is exist too, we need to remove the orginal '''\n",
        "data_2.drop(ex_cols.index, axis=1, inplace=True)\n",
        "\n",
        "data_2\n"
      ]
    },
    {
      "cell_type": "code",
      "execution_count": 95,
      "id": "40e3ea2c",
      "metadata": {
        "colab": {
          "base_uri": "https://localhost:8080/",
          "height": 443
        },
        "id": "40e3ea2c",
        "outputId": "0d9b0b76-a695-4b2d-e100-2108bf35942b"
      },
      "outputs": [
        {
          "data": {
            "text/html": [
              "<div>\n",
              "<style scoped>\n",
              "    .dataframe tbody tr th:only-of-type {\n",
              "        vertical-align: middle;\n",
              "    }\n",
              "\n",
              "    .dataframe tbody tr th {\n",
              "        vertical-align: top;\n",
              "    }\n",
              "\n",
              "    .dataframe thead th {\n",
              "        text-align: right;\n",
              "    }\n",
              "</style>\n",
              "<table border=\"1\" class=\"dataframe\">\n",
              "  <thead>\n",
              "    <tr style=\"text-align: right;\">\n",
              "      <th></th>\n",
              "      <th>age</th>\n",
              "      <th>gender</th>\n",
              "      <th>self_employed</th>\n",
              "      <th>family_history</th>\n",
              "      <th>treatment</th>\n",
              "      <th>no_employees</th>\n",
              "      <th>remote_work</th>\n",
              "      <th>tech_company</th>\n",
              "      <th>obs_consequence</th>\n",
              "      <th>leave_0</th>\n",
              "      <th>...</th>\n",
              "      <th>supervisor_2</th>\n",
              "      <th>mental_health_interview_0</th>\n",
              "      <th>mental_health_interview_1</th>\n",
              "      <th>mental_health_interview_2</th>\n",
              "      <th>phys_health_interview_0</th>\n",
              "      <th>phys_health_interview_1</th>\n",
              "      <th>phys_health_interview_2</th>\n",
              "      <th>mental_vs_physical_0</th>\n",
              "      <th>mental_vs_physical_1</th>\n",
              "      <th>mental_vs_physical_2</th>\n",
              "    </tr>\n",
              "  </thead>\n",
              "  <tbody>\n",
              "    <tr>\n",
              "      <th>0</th>\n",
              "      <td>37</td>\n",
              "      <td>0</td>\n",
              "      <td>0</td>\n",
              "      <td>0</td>\n",
              "      <td>1</td>\n",
              "      <td>6</td>\n",
              "      <td>0</td>\n",
              "      <td>1</td>\n",
              "      <td>0</td>\n",
              "      <td>0.0</td>\n",
              "      <td>...</td>\n",
              "      <td>1.0</td>\n",
              "      <td>0.0</td>\n",
              "      <td>1.0</td>\n",
              "      <td>0.0</td>\n",
              "      <td>1.0</td>\n",
              "      <td>0.0</td>\n",
              "      <td>0.0</td>\n",
              "      <td>0.0</td>\n",
              "      <td>0.0</td>\n",
              "      <td>1.0</td>\n",
              "    </tr>\n",
              "    <tr>\n",
              "      <th>1</th>\n",
              "      <td>44</td>\n",
              "      <td>1</td>\n",
              "      <td>0</td>\n",
              "      <td>0</td>\n",
              "      <td>0</td>\n",
              "      <td>1000</td>\n",
              "      <td>0</td>\n",
              "      <td>0</td>\n",
              "      <td>0</td>\n",
              "      <td>1.0</td>\n",
              "      <td>...</td>\n",
              "      <td>0.0</td>\n",
              "      <td>0.0</td>\n",
              "      <td>1.0</td>\n",
              "      <td>0.0</td>\n",
              "      <td>0.0</td>\n",
              "      <td>1.0</td>\n",
              "      <td>0.0</td>\n",
              "      <td>1.0</td>\n",
              "      <td>0.0</td>\n",
              "      <td>0.0</td>\n",
              "    </tr>\n",
              "    <tr>\n",
              "      <th>2</th>\n",
              "      <td>32</td>\n",
              "      <td>1</td>\n",
              "      <td>0</td>\n",
              "      <td>0</td>\n",
              "      <td>0</td>\n",
              "      <td>6</td>\n",
              "      <td>0</td>\n",
              "      <td>1</td>\n",
              "      <td>0</td>\n",
              "      <td>0.0</td>\n",
              "      <td>...</td>\n",
              "      <td>1.0</td>\n",
              "      <td>0.0</td>\n",
              "      <td>0.0</td>\n",
              "      <td>1.0</td>\n",
              "      <td>0.0</td>\n",
              "      <td>0.0</td>\n",
              "      <td>1.0</td>\n",
              "      <td>0.0</td>\n",
              "      <td>1.0</td>\n",
              "      <td>0.0</td>\n",
              "    </tr>\n",
              "    <tr>\n",
              "      <th>3</th>\n",
              "      <td>31</td>\n",
              "      <td>1</td>\n",
              "      <td>0</td>\n",
              "      <td>1</td>\n",
              "      <td>1</td>\n",
              "      <td>26</td>\n",
              "      <td>0</td>\n",
              "      <td>1</td>\n",
              "      <td>1</td>\n",
              "      <td>0.0</td>\n",
              "      <td>...</td>\n",
              "      <td>0.0</td>\n",
              "      <td>1.0</td>\n",
              "      <td>0.0</td>\n",
              "      <td>0.0</td>\n",
              "      <td>1.0</td>\n",
              "      <td>0.0</td>\n",
              "      <td>0.0</td>\n",
              "      <td>0.0</td>\n",
              "      <td>1.0</td>\n",
              "      <td>0.0</td>\n",
              "    </tr>\n",
              "    <tr>\n",
              "      <th>4</th>\n",
              "      <td>31</td>\n",
              "      <td>1</td>\n",
              "      <td>0</td>\n",
              "      <td>0</td>\n",
              "      <td>0</td>\n",
              "      <td>100</td>\n",
              "      <td>1</td>\n",
              "      <td>1</td>\n",
              "      <td>0</td>\n",
              "      <td>1.0</td>\n",
              "      <td>...</td>\n",
              "      <td>1.0</td>\n",
              "      <td>0.0</td>\n",
              "      <td>0.0</td>\n",
              "      <td>1.0</td>\n",
              "      <td>0.0</td>\n",
              "      <td>0.0</td>\n",
              "      <td>1.0</td>\n",
              "      <td>1.0</td>\n",
              "      <td>0.0</td>\n",
              "      <td>0.0</td>\n",
              "    </tr>\n",
              "    <tr>\n",
              "      <th>...</th>\n",
              "      <td>...</td>\n",
              "      <td>...</td>\n",
              "      <td>...</td>\n",
              "      <td>...</td>\n",
              "      <td>...</td>\n",
              "      <td>...</td>\n",
              "      <td>...</td>\n",
              "      <td>...</td>\n",
              "      <td>...</td>\n",
              "      <td>...</td>\n",
              "      <td>...</td>\n",
              "      <td>...</td>\n",
              "      <td>...</td>\n",
              "      <td>...</td>\n",
              "      <td>...</td>\n",
              "      <td>...</td>\n",
              "      <td>...</td>\n",
              "      <td>...</td>\n",
              "      <td>...</td>\n",
              "      <td>...</td>\n",
              "      <td>...</td>\n",
              "    </tr>\n",
              "    <tr>\n",
              "      <th>1252</th>\n",
              "      <td>29</td>\n",
              "      <td>1</td>\n",
              "      <td>0</td>\n",
              "      <td>1</td>\n",
              "      <td>1</td>\n",
              "      <td>100</td>\n",
              "      <td>1</td>\n",
              "      <td>1</td>\n",
              "      <td>0</td>\n",
              "      <td>1.0</td>\n",
              "      <td>...</td>\n",
              "      <td>0.0</td>\n",
              "      <td>0.0</td>\n",
              "      <td>1.0</td>\n",
              "      <td>0.0</td>\n",
              "      <td>1.0</td>\n",
              "      <td>0.0</td>\n",
              "      <td>0.0</td>\n",
              "      <td>0.0</td>\n",
              "      <td>1.0</td>\n",
              "      <td>0.0</td>\n",
              "    </tr>\n",
              "    <tr>\n",
              "      <th>1253</th>\n",
              "      <td>36</td>\n",
              "      <td>1</td>\n",
              "      <td>0</td>\n",
              "      <td>1</td>\n",
              "      <td>0</td>\n",
              "      <td>1000</td>\n",
              "      <td>0</td>\n",
              "      <td>0</td>\n",
              "      <td>0</td>\n",
              "      <td>0.0</td>\n",
              "      <td>...</td>\n",
              "      <td>0.0</td>\n",
              "      <td>0.0</td>\n",
              "      <td>1.0</td>\n",
              "      <td>0.0</td>\n",
              "      <td>0.0</td>\n",
              "      <td>1.0</td>\n",
              "      <td>0.0</td>\n",
              "      <td>1.0</td>\n",
              "      <td>0.0</td>\n",
              "      <td>0.0</td>\n",
              "    </tr>\n",
              "    <tr>\n",
              "      <th>1255</th>\n",
              "      <td>32</td>\n",
              "      <td>1</td>\n",
              "      <td>0</td>\n",
              "      <td>1</td>\n",
              "      <td>1</td>\n",
              "      <td>26</td>\n",
              "      <td>1</td>\n",
              "      <td>1</td>\n",
              "      <td>0</td>\n",
              "      <td>0.0</td>\n",
              "      <td>...</td>\n",
              "      <td>1.0</td>\n",
              "      <td>0.0</td>\n",
              "      <td>1.0</td>\n",
              "      <td>0.0</td>\n",
              "      <td>0.0</td>\n",
              "      <td>1.0</td>\n",
              "      <td>0.0</td>\n",
              "      <td>0.0</td>\n",
              "      <td>0.0</td>\n",
              "      <td>1.0</td>\n",
              "    </tr>\n",
              "    <tr>\n",
              "      <th>1256</th>\n",
              "      <td>34</td>\n",
              "      <td>1</td>\n",
              "      <td>0</td>\n",
              "      <td>1</td>\n",
              "      <td>1</td>\n",
              "      <td>1000</td>\n",
              "      <td>0</td>\n",
              "      <td>1</td>\n",
              "      <td>0</td>\n",
              "      <td>0.0</td>\n",
              "      <td>...</td>\n",
              "      <td>0.0</td>\n",
              "      <td>0.0</td>\n",
              "      <td>1.0</td>\n",
              "      <td>0.0</td>\n",
              "      <td>0.0</td>\n",
              "      <td>1.0</td>\n",
              "      <td>0.0</td>\n",
              "      <td>0.0</td>\n",
              "      <td>1.0</td>\n",
              "      <td>0.0</td>\n",
              "    </tr>\n",
              "    <tr>\n",
              "      <th>1258</th>\n",
              "      <td>25</td>\n",
              "      <td>1</td>\n",
              "      <td>0</td>\n",
              "      <td>1</td>\n",
              "      <td>1</td>\n",
              "      <td>26</td>\n",
              "      <td>0</td>\n",
              "      <td>0</td>\n",
              "      <td>0</td>\n",
              "      <td>1.0</td>\n",
              "      <td>...</td>\n",
              "      <td>0.0</td>\n",
              "      <td>0.0</td>\n",
              "      <td>1.0</td>\n",
              "      <td>0.0</td>\n",
              "      <td>0.0</td>\n",
              "      <td>1.0</td>\n",
              "      <td>0.0</td>\n",
              "      <td>1.0</td>\n",
              "      <td>0.0</td>\n",
              "      <td>0.0</td>\n",
              "    </tr>\n",
              "  </tbody>\n",
              "</table>\n",
              "<p>953 rows × 54 columns</p>\n",
              "</div>"
            ],
            "text/plain": [
              "      age  gender  self_employed  family_history  treatment  no_employees  \\\n",
              "0      37       0              0               0          1             6   \n",
              "1      44       1              0               0          0          1000   \n",
              "2      32       1              0               0          0             6   \n",
              "3      31       1              0               1          1            26   \n",
              "4      31       1              0               0          0           100   \n",
              "...   ...     ...            ...             ...        ...           ...   \n",
              "1252   29       1              0               1          1           100   \n",
              "1253   36       1              0               1          0          1000   \n",
              "1255   32       1              0               1          1            26   \n",
              "1256   34       1              0               1          1          1000   \n",
              "1258   25       1              0               1          1            26   \n",
              "\n",
              "      remote_work  tech_company  obs_consequence  leave_0  ...  supervisor_2  \\\n",
              "0               0             1                0      0.0  ...           1.0   \n",
              "1               0             0                0      1.0  ...           0.0   \n",
              "2               0             1                0      0.0  ...           1.0   \n",
              "3               0             1                1      0.0  ...           0.0   \n",
              "4               1             1                0      1.0  ...           1.0   \n",
              "...           ...           ...              ...      ...  ...           ...   \n",
              "1252            1             1                0      1.0  ...           0.0   \n",
              "1253            0             0                0      0.0  ...           0.0   \n",
              "1255            1             1                0      0.0  ...           1.0   \n",
              "1256            0             1                0      0.0  ...           0.0   \n",
              "1258            0             0                0      1.0  ...           0.0   \n",
              "\n",
              "      mental_health_interview_0  mental_health_interview_1  \\\n",
              "0                           0.0                        1.0   \n",
              "1                           0.0                        1.0   \n",
              "2                           0.0                        0.0   \n",
              "3                           1.0                        0.0   \n",
              "4                           0.0                        0.0   \n",
              "...                         ...                        ...   \n",
              "1252                        0.0                        1.0   \n",
              "1253                        0.0                        1.0   \n",
              "1255                        0.0                        1.0   \n",
              "1256                        0.0                        1.0   \n",
              "1258                        0.0                        1.0   \n",
              "\n",
              "      mental_health_interview_2  phys_health_interview_0  \\\n",
              "0                           0.0                      1.0   \n",
              "1                           0.0                      0.0   \n",
              "2                           1.0                      0.0   \n",
              "3                           0.0                      1.0   \n",
              "4                           1.0                      0.0   \n",
              "...                         ...                      ...   \n",
              "1252                        0.0                      1.0   \n",
              "1253                        0.0                      0.0   \n",
              "1255                        0.0                      0.0   \n",
              "1256                        0.0                      0.0   \n",
              "1258                        0.0                      0.0   \n",
              "\n",
              "      phys_health_interview_1  phys_health_interview_2  mental_vs_physical_0  \\\n",
              "0                         0.0                      0.0                   0.0   \n",
              "1                         1.0                      0.0                   1.0   \n",
              "2                         0.0                      1.0                   0.0   \n",
              "3                         0.0                      0.0                   0.0   \n",
              "4                         0.0                      1.0                   1.0   \n",
              "...                       ...                      ...                   ...   \n",
              "1252                      0.0                      0.0                   0.0   \n",
              "1253                      1.0                      0.0                   1.0   \n",
              "1255                      1.0                      0.0                   0.0   \n",
              "1256                      1.0                      0.0                   0.0   \n",
              "1258                      1.0                      0.0                   1.0   \n",
              "\n",
              "      mental_vs_physical_1  mental_vs_physical_2  \n",
              "0                      0.0                   1.0  \n",
              "1                      0.0                   0.0  \n",
              "2                      1.0                   0.0  \n",
              "3                      1.0                   0.0  \n",
              "4                      0.0                   0.0  \n",
              "...                    ...                   ...  \n",
              "1252                   1.0                   0.0  \n",
              "1253                   0.0                   0.0  \n",
              "1255                   0.0                   1.0  \n",
              "1256                   1.0                   0.0  \n",
              "1258                   0.0                   0.0  \n",
              "\n",
              "[953 rows x 54 columns]"
            ]
          },
          "execution_count": 95,
          "metadata": {},
          "output_type": "execute_result"
        }
      ],
      "source": [
        "data = data_copy\n",
        "data"
      ]
    },
    {
      "cell_type": "code",
      "execution_count": 96,
      "id": "e7352a43",
      "metadata": {
        "colab": {
          "base_uri": "https://localhost:8080/"
        },
        "id": "e7352a43",
        "outputId": "58cc2fa5-2341-4eae-b91f-246b0babb5a0"
      },
      "outputs": [
        {
          "data": {
            "text/plain": [
              "age                            int32\n",
              "gender                         int32\n",
              "self_employed                  int32\n",
              "family_history                 int32\n",
              "treatment                      int32\n",
              "no_employees                   int32\n",
              "remote_work                    int32\n",
              "tech_company                   int32\n",
              "obs_consequence                int32\n",
              "leave_0                        int32\n",
              "leave_1                        int32\n",
              "leave_2                        int32\n",
              "leave_3                        int32\n",
              "leave_4                        int32\n",
              "work_interfere_0               int32\n",
              "work_interfere_1               int32\n",
              "work_interfere_2               int32\n",
              "work_interfere_3               int32\n",
              "benefits_0                     int32\n",
              "benefits_1                     int32\n",
              "benefits_2                     int32\n",
              "care_options_0                 int32\n",
              "care_options_1                 int32\n",
              "care_options_2                 int32\n",
              "wellness_program_0             int32\n",
              "wellness_program_1             int32\n",
              "wellness_program_2             int32\n",
              "seek_help_0                    int32\n",
              "seek_help_1                    int32\n",
              "seek_help_2                    int32\n",
              "anonymity_0                    int32\n",
              "anonymity_1                    int32\n",
              "anonymity_2                    int32\n",
              "mental_health_consequence_0    int32\n",
              "mental_health_consequence_1    int32\n",
              "mental_health_consequence_2    int32\n",
              "phys_health_consequence_0      int32\n",
              "phys_health_consequence_1      int32\n",
              "phys_health_consequence_2      int32\n",
              "coworkers_0                    int32\n",
              "coworkers_1                    int32\n",
              "coworkers_2                    int32\n",
              "supervisor_0                   int32\n",
              "supervisor_1                   int32\n",
              "supervisor_2                   int32\n",
              "mental_health_interview_0      int32\n",
              "mental_health_interview_1      int32\n",
              "mental_health_interview_2      int32\n",
              "phys_health_interview_0        int32\n",
              "phys_health_interview_1        int32\n",
              "phys_health_interview_2        int32\n",
              "mental_vs_physical_0           int32\n",
              "mental_vs_physical_1           int32\n",
              "mental_vs_physical_2           int32\n",
              "dtype: object"
            ]
          },
          "execution_count": 96,
          "metadata": {},
          "output_type": "execute_result"
        }
      ],
      "source": [
        "data = data.astype(int)\n",
        "data.dtypes"
      ]
    },
    {
      "cell_type": "markdown",
      "id": "31cf28d1",
      "metadata": {
        "id": "31cf28d1"
      },
      "source": [
        "# 6- scaling data"
      ]
    },
    {
      "cell_type": "code",
      "execution_count": 97,
      "id": "b853743f",
      "metadata": {
        "colab": {
          "base_uri": "https://localhost:8080/",
          "height": 630
        },
        "id": "b853743f",
        "outputId": "3994dd41-583c-4436-f3dd-e7e6bc03bf2e"
      },
      "outputs": [
        {
          "data": {
            "image/png": "[encoded data removed]",
            "text/plain": [
              "<Figure size 1000x700 with 1 Axes>"
            ]
          },
          "metadata": {},
          "output_type": "display_data"
        }
      ],
      "source": [
        "# Create a figure with a single subplot\n",
        "fig, ax = plt.subplots(figsize=(10, 7))\n",
        "\n",
        "# Plot the histogram using ax\n",
        "sns.histplot(data, bins=30, ax=ax)\n",
        "ax.set_title(\"Original Data Distribution\", fontsize=20)\n",
        "ax.get_legend().remove()\n",
        "plt.show()"
      ]
    },
    {
      "cell_type": "code",
      "execution_count": 98,
      "id": "c9c52c1a",
      "metadata": {
        "id": "c9c52c1a"
      },
      "outputs": [],
      "source": [
        "from sklearn.preprocessing import Normalizer\n",
        "from sklearn.preprocessing import PowerTransformer\n",
        "from sklearn.preprocessing import StandardScaler\n",
        "from sklearn.preprocessing import MinMaxScaler\n",
        "from sklearn.preprocessing import RobustScaler\n",
        "from sklearn.model_selection import train_test_split"
      ]
    },
    {
      "cell_type": "code",
      "execution_count": 99,
      "id": "56b0d71b",
      "metadata": {
        "colab": {
          "base_uri": "https://localhost:8080/",
          "height": 657
        },
        "id": "56b0d71b",
        "outputId": "fef3c801-8a1b-4d74-e18d-4b9b9c3a81a6"
      },
      "outputs": [
        {
          "name": "stderr",
          "output_type": "stream",
          "text": [
            "C:\\Users\\zizo\\AppData\\Local\\Temp\\ipykernel_40016\\3621774574.py:6: FutureWarning: \n",
            "\n",
            "`shade` is now deprecated in favor of `fill`; setting `fill=True`.\n",
            "This will become an error in seaborn v0.14.0; please update your code.\n",
            "\n",
            "  sns.kdeplot(normalized_data[:, 0], shade=True)\n"
          ]
        },
        {
          "data": {
            "image/png": "[encoded data removed]",
            "text/plain": [
              "<Figure size 1000x600 with 1 Axes>"
            ]
          },
          "metadata": {},
          "output_type": "display_data"
        }
      ],
      "source": [
        "normalizer = Normalizer()\n",
        "normalized_data = normalizer.fit_transform(data)\n",
        "\n",
        "\n",
        "plt.figure(figsize=(10, 6))\n",
        "sns.kdeplot(normalized_data[:, 0], shade=True)\n",
        "\n",
        "plt.title(\"Normalized Data Distribution\", fontsize=20)\n",
        "plt.show()"
      ]
    },
    {
      "cell_type": "markdown",
      "id": "fe2f1da3",
      "metadata": {
        "id": "fe2f1da3"
      },
      "source": [
        "### box-cox is a transformer used to change the distribution of the data to be normal ,\n",
        "it can work on positive data only so we needed to shift any non positive value to positive at first ,\n",
        "we apply shifting by subtract the minimum value from each value in the column ,\n",
        "then we add a small constant to each value so that no zeros in our dataset"
      ]
    },
    {
      "cell_type": "code",
      "execution_count": 100,
      "id": "47192cd8",
      "metadata": {
        "colab": {
          "base_uri": "https://localhost:8080/",
          "height": 657
        },
        "id": "47192cd8",
        "outputId": "3c362461-ca11-4bbf-f745-e9f0be05b8b1"
      },
      "outputs": [
        {
          "name": "stderr",
          "output_type": "stream",
          "text": [
            "C:\\Users\\zizo\\AppData\\Local\\Temp\\ipykernel_40016\\2881960572.py:8: FutureWarning: \n",
            "\n",
            "`shade` is now deprecated in favor of `fill`; setting `fill=True`.\n",
            "This will become an error in seaborn v0.14.0; please update your code.\n",
            "\n",
            "  sns.kdeplot(transformed_data[:, 0], shade=True)\n"
          ]
        },
        {
          "data": {
            "image/png": "[encoded data removed]",
            "text/plain": [
              "<Figure size 1000x600 with 1 Axes>"
            ]
          },
          "metadata": {},
          "output_type": "display_data"
        }
      ],
      "source": [
        "shifted_data = data - data.min(axis=0) + 1e-10\n",
        "\n",
        "# Apply the Box-Cox transformation to the shifted data\n",
        "transformer = PowerTransformer(method='box-cox', standardize=True)\n",
        "transformed_data = transformer.fit_transform(shifted_data)\n",
        "\n",
        "plt.figure(figsize=(10, 6))\n",
        "sns.kdeplot(transformed_data[:, 0], shade=True)\n",
        "plt.title(\"Box-Cox Transformed Data Distribution\", fontsize=20)\n",
        "plt.show()"
      ]
    },
    {
      "cell_type": "markdown",
      "id": "0bc76388",
      "metadata": {
        "id": "0bc76388"
      },
      "source": [
        "##### StandardScaler\n",
        "is a technique for scaling data that transforms the data to have a mean of 0 and a standard deviation of 1\n",
        "by subtracting the mean of each feature and dividing by its standard deviation\n",
        "##### MinMaxScaler\n",
        "is a technique for scaling data that transforms the data to a fixed range between 0 and 1\n",
        "by subtracting the minimum value of each feature and dividing by the range (maximum value minus minimum value) of each feature.\n",
        "##### RobustScaler\n",
        "is a technique for scaling data that is more robust to outliers and non-normal distributions\n",
        "by subtracting the median of each feature and dividing by the interquartile range (IQR) of each feature."
      ]
    },
    {
      "cell_type": "code",
      "execution_count": 101,
      "id": "570d5a4b",
      "metadata": {
        "colab": {
          "base_uri": "https://localhost:8080/",
          "height": 790
        },
        "id": "570d5a4b",
        "outputId": "2c511aa3-7aa4-4d72-b785-2d29e230f683"
      },
      "outputs": [
        {
          "name": "stderr",
          "output_type": "stream",
          "text": [
            "C:\\Users\\zizo\\AppData\\Local\\Temp\\ipykernel_40016\\3588464869.py:15: FutureWarning: \n",
            "\n",
            "`shade` is now deprecated in favor of `fill`; setting `fill=True`.\n",
            "This will become an error in seaborn v0.14.0; please update your code.\n",
            "\n",
            "  sns.kdeplot(data=standard_data[:, 0], ax=axs[0], shade=True)\n",
            "C:\\Users\\zizo\\AppData\\Local\\Temp\\ipykernel_40016\\3588464869.py:16: FutureWarning: \n",
            "\n",
            "`shade` is now deprecated in favor of `fill`; setting `fill=True`.\n",
            "This will become an error in seaborn v0.14.0; please update your code.\n",
            "\n",
            "  sns.kdeplot(data=roubset_data[:, 0], ax=axs[1], shade=True)\n",
            "C:\\Users\\zizo\\AppData\\Local\\Temp\\ipykernel_40016\\3588464869.py:17: FutureWarning: \n",
            "\n",
            "`shade` is now deprecated in favor of `fill`; setting `fill=True`.\n",
            "This will become an error in seaborn v0.14.0; please update your code.\n",
            "\n",
            "  sns.kdeplot(data=minmax_data[:, 0], ax=axs[2], shade=True)\n"
          ]
        },
        {
          "data": {
            "image/png": "[encoded data removed]",
            "text/plain": [
              "<Figure size 1800x700 with 3 Axes>"
            ]
          },
          "metadata": {},
          "output_type": "display_data"
        }
      ],
      "source": [
        "standard = StandardScaler()\n",
        "standard_data = standard.fit_transform(data)\n",
        "\n",
        "roubset = RobustScaler()\n",
        "roubset_data = roubset.fit_transform(data)\n",
        "\n",
        "minmax = MinMaxScaler()\n",
        "minmax_data = minmax.fit_transform(data)\n",
        "\n",
        "#sns.kdeplot(standard_data[:, 0], shade=True)\n",
        "#plt.title(\"standard scalling Data Distribution\", fontsize=20)\n",
        "#plt.show()\n",
        "fig, axs = plt.subplots(1, 3, figsize=(18, 7))\n",
        "\n",
        "sns.kdeplot(data=standard_data[:, 0], ax=axs[0], shade=True)\n",
        "sns.kdeplot(data=roubset_data[:, 0], ax=axs[1], shade=True)\n",
        "sns.kdeplot(data=minmax_data[:, 0], ax=axs[2], shade=True)\n",
        "\n",
        "axs[0].set_title('StandardScaled data', fontsize=16)\n",
        "axs[1].set_title('RobustScaled data', fontsize=16)\n",
        "axs[2].set_title('MinMaxScaled data', fontsize=16)\n",
        "\n",
        "for i in [0,1,2] :\n",
        "    axs[i].set_ylabel('Age')\n",
        "\n",
        "plt.show()"
      ]
    },
    {
      "cell_type": "markdown",
      "id": "21677c99",
      "metadata": {
        "id": "21677c99"
      },
      "source": [
        "##### convert these matrices to dataframes so we can work on it"
      ]
    },
    {
      "cell_type": "code",
      "execution_count": 102,
      "id": "7b26270f",
      "metadata": {
        "id": "7b26270f"
      },
      "outputs": [],
      "source": [
        "normalized_data = pd.DataFrame(normalized_data,columns=data.columns)\n",
        "transformed_data = pd.DataFrame (transformed_data,columns=data.columns)\n",
        "standard_data = pd.DataFrame(standard_data, columns=data.columns)\n",
        "roubset_data = pd.DataFrame(roubset_data, columns=data.columns)\n",
        "minmax_data = pd.DataFrame(minmax_data, columns=data.columns)"
      ]
    },
    {
      "cell_type": "markdown",
      "id": "9595969e",
      "metadata": {
        "id": "9595969e"
      },
      "source": [
        "# Spliting data\n",
        "Now we need to split the data into train and test for each scaller"
      ]
    },
    {
      "cell_type": "code",
      "execution_count": 103,
      "id": "b92457db",
      "metadata": {
        "id": "b92457db"
      },
      "outputs": [],
      "source": [
        "diff_data = {'Normalized data' : normalized_data,\n",
        "             'Transformed data' : transformed_data,\n",
        "             'StandardScaled data' : standard_data,\n",
        "             'RobustScaled data' : roubset_data,\n",
        "             'MinMaxScaled data' : minmax_data,\n",
        "             'Not hot-encoded data' : not_hot_data\n",
        "            }\n",
        "\n",
        "y_col = 'treatment'\n",
        "\n",
        "X_train_d = {}\n",
        "X_test_d = {}\n",
        "y_train_d = {}\n",
        "y_test_d = {}\n",
        "\n",
        "for key, value in diff_data.items():\n",
        "    # Split the data into training and testing sets\n",
        "    X_train, X_test, y_train, y_test = train_test_split(value[[k for k in value.columns if k != y_col]],\n",
        "                                                        data[y_col],\n",
        "                                                        test_size=0.3,\n",
        "                                                        random_state=42)"
      ]
    },
    {
      "cell_type": "markdown",
      "id": "6e87598c",
      "metadata": {
        "id": "6e87598c"
      },
      "source": [
        "# Applying KNN model"
      ]
    },
    {
      "cell_type": "code",
      "execution_count": 104,
      "id": "75b2c960",
      "metadata": {
        "id": "75b2c960"
      },
      "outputs": [],
      "source": [
        "from sklearn.neighbors import KNeighborsRegressor\n",
        "from sklearn.neighbors import KNeighborsClassifier\n",
        "from sklearn.metrics import mean_squared_error\n"
      ]
    },
    {
      "cell_type": "code",
      "execution_count": 105,
      "id": "PupQV16Xm4Vh",
      "metadata": {
        "id": "PupQV16Xm4Vh"
      },
      "outputs": [],
      "source": [
        "from sklearn.neighbors import KNeighborsClassifier\n",
        "\n",
        "\n",
        "test_scores = []\n",
        "train_scores = []\n",
        "\n",
        "for i in range(1,15):\n",
        "\n",
        "    knn = KNeighborsClassifier(i)\n",
        "    knn.fit(X_train,y_train)\n",
        "\n",
        "    train_scores.append(knn.score(X_train,y_train))\n",
        "    test_scores.append(knn.score(X_test,y_test))"
      ]
    },
    {
      "cell_type": "code",
      "execution_count": 106,
      "id": "rwIgezuQnoTj",
      "metadata": {
        "colab": {
          "base_uri": "https://localhost:8080/"
        },
        "id": "rwIgezuQnoTj",
        "outputId": "98a60521-15ff-428e-8d29-78d962668f82"
      },
      "outputs": [
        {
          "name": "stdout",
          "output_type": "stream",
          "text": [
            "Max train score 73.01349325337331 % and k = [5]\n"
          ]
        }
      ],
      "source": [
        "## score that comes from testing on the same datapoints that were used for training\n",
        "max_train_score = max(train_scores)\n",
        "train_scores_ind = [i for i, v in enumerate(train_scores) if v == max_train_score]\n",
        "print('Max train score {} % and k = {}'.format(max_train_score*100,list(map(lambda x: x+1, train_scores_ind))))"
      ]
    },
    {
      "cell_type": "code",
      "execution_count": 107,
      "id": "RvrmZbnonoI9",
      "metadata": {
        "colab": {
          "base_uri": "https://localhost:8080/"
        },
        "id": "RvrmZbnonoI9",
        "outputId": "e3e68a29-92a1-496d-df89-0fdeb7907494"
      },
      "outputs": [
        {
          "name": "stdout",
          "output_type": "stream",
          "text": [
            "Max test score 69.58041958041959 % and k = [7]\n"
          ]
        }
      ],
      "source": [
        "## score that comes from testing on the datapoints that were split in the beginning to be used for testing solely\n",
        "max_test_score = max(test_scores)\n",
        "test_scores_ind = [i for i, v in enumerate(test_scores) if v == max_test_score]\n",
        "print('Max test score {} % and k = {}'.format(max_test_score*100,list(map(lambda x: x+1, test_scores_ind))))"
      ]
    },
    {
      "cell_type": "markdown",
      "id": "CJLwfnron7YT",
      "metadata": {
        "id": "CJLwfnron7YT"
      },
      "source": [
        "Result Visualisation"
      ]
    },
    {
      "cell_type": "code",
      "execution_count": 108,
      "id": "QtHks8enjshX",
      "metadata": {
        "colab": {
          "base_uri": "https://localhost:8080/",
          "height": 445
        },
        "id": "QtHks8enjshX",
        "outputId": "9460b6f6-2a24-4c89-f431-48ae4b705a08"
      },
      "outputs": [
        {
          "data": {
            "image/png": "[encoded data removed]",
            "text/plain": [
              "<Figure size 1200x500 with 1 Axes>"
            ]
          },
          "metadata": {},
          "output_type": "display_data"
        }
      ],
      "source": [
        "import seaborn as sns\n",
        "import matplotlib.pyplot as plt\n",
        "\n",
        "plt.figure(figsize=(12, 5))\n",
        "\n",
        "# Assuming train_scores and test_scores are defined appropriately\n",
        "\n",
        "# Plotting train_scores\n",
        "p = sns.lineplot(x=range(1, 15), y=train_scores, marker='*', label='Train Score')\n",
        "\n",
        "# Plotting test_scores on the same plot\n",
        "p = sns.lineplot(x=range(1, 15), y=test_scores, marker='o', label='Test Score')\n",
        "\n",
        "plt.legend()  # Show legend\n",
        "plt.show()\n"
      ]
    },
    {
      "cell_type": "code",
      "execution_count": 109,
      "id": "9t1LY8K9n-f9",
      "metadata": {
        "colab": {
          "base_uri": "https://localhost:8080/"
        },
        "id": "9t1LY8K9n-f9",
        "outputId": "1e3817d1-9e03-430b-9abf-0fb7601fe898"
      },
      "outputs": [
        {
          "data": {
            "text/plain": [
              "0.6888111888111889"
            ]
          },
          "execution_count": 109,
          "metadata": {},
          "output_type": "execute_result"
        }
      ],
      "source": [
        "#Setup a knn classifier with k neighbors\n",
        "knn = KNeighborsClassifier(11)\n",
        "\n",
        "knn.fit(X_train,y_train)\n",
        "knn.score(X_test,y_test)"
      ]
    },
    {
      "cell_type": "code",
      "execution_count": 110,
      "id": "kbJtRcq8sWSt",
      "metadata": {
        "colab": {
          "base_uri": "https://localhost:8080/",
          "height": 175
        },
        "id": "kbJtRcq8sWSt",
        "outputId": "01f3c741-e060-41a8-fadc-01555ae51dd8"
      },
      "outputs": [
        {
          "data": {
            "text/html": [
              "<div>\n",
              "<style scoped>\n",
              "    .dataframe tbody tr th:only-of-type {\n",
              "        vertical-align: middle;\n",
              "    }\n",
              "\n",
              "    .dataframe tbody tr th {\n",
              "        vertical-align: top;\n",
              "    }\n",
              "\n",
              "    .dataframe thead th {\n",
              "        text-align: right;\n",
              "    }\n",
              "</style>\n",
              "<table border=\"1\" class=\"dataframe\">\n",
              "  <thead>\n",
              "    <tr style=\"text-align: right;\">\n",
              "      <th></th>\n",
              "      <th>Linear Reg.</th>\n",
              "    </tr>\n",
              "  </thead>\n",
              "  <tbody>\n",
              "    <tr>\n",
              "      <th>MAE</th>\n",
              "      <td>0.311189</td>\n",
              "    </tr>\n",
              "    <tr>\n",
              "      <th>MSE</th>\n",
              "      <td>0.311189</td>\n",
              "    </tr>\n",
              "    <tr>\n",
              "      <th>RMSE</th>\n",
              "      <td>0.557843</td>\n",
              "    </tr>\n",
              "    <tr>\n",
              "      <th>R2-Score</th>\n",
              "      <td>-0.334067</td>\n",
              "    </tr>\n",
              "  </tbody>\n",
              "</table>\n",
              "</div>"
            ],
            "text/plain": [
              "          Linear Reg.\n",
              "MAE          0.311189\n",
              "MSE          0.311189\n",
              "RMSE         0.557843\n",
              "R2-Score    -0.334067"
            ]
          },
          "execution_count": 110,
          "metadata": {},
          "output_type": "execute_result"
        }
      ],
      "source": [
        "from sklearn import metrics\n",
        "def model_evaluation(model, X_test, y_test, model_name):\n",
        "    y_pred = model.predict(X_test)\n",
        "\n",
        "    MAE = metrics.mean_absolute_error(y_test, y_pred)\n",
        "    MSE = metrics.mean_squared_error(y_test, y_pred)\n",
        "    RMSE = np.sqrt(MSE)\n",
        "    R2_Score = metrics.r2_score(y_test, y_pred)\n",
        "\n",
        "    return pd.DataFrame([MAE, MSE, RMSE, R2_Score], index=['MAE', 'MSE', 'RMSE' ,'R2-Score'], columns=[model_name])\n",
        "model_evaluation(knn, X_test, y_test, 'Linear Reg.')"
      ]
    },
    {
      "cell_type": "code",
      "execution_count": 111,
      "id": "_Zflke-uob-v",
      "metadata": {
        "colab": {
          "base_uri": "https://localhost:8080/",
          "height": 507
        },
        "id": "_Zflke-uob-v",
        "outputId": "7398cdd0-fd38-4a8d-9bc9-27bad28e83f9"
      },
      "outputs": [
        {
          "ename": "ModuleNotFoundError",
          "evalue": "No module named 'mlxtend'",
          "output_type": "error",
          "traceback": [
            "\u001b[1;31m---------------------------------------------------------------------------\u001b[0m",
            "\u001b[1;31mModuleNotFoundError\u001b[0m                       Traceback (most recent call last)",
            "\u001b[1;32md:\\bi project\\KNN_edited (1).ipynb Cell 89\u001b[0m line \u001b[0;36m1\n\u001b[1;32m----> <a href='vscode-notebook-cell:/d%3A/bi%20project/KNN_edited%20%281%29.ipynb#Y154sZmlsZQ%3D%3D?line=0'>1</a>\u001b[0m \u001b[39mfrom\u001b[39;00m \u001b[39mmlxtend\u001b[39;00m\u001b[39m.\u001b[39;00m\u001b[39mplotting\u001b[39;00m \u001b[39mimport\u001b[39;00m plot_decision_regions\n\u001b[0;32m      <a href='vscode-notebook-cell:/d%3A/bi%20project/KNN_edited%20%281%29.ipynb#Y154sZmlsZQ%3D%3D?line=1'>2</a>\u001b[0m \u001b[39mimport\u001b[39;00m \u001b[39mmatplotlib\u001b[39;00m\u001b[39m.\u001b[39;00m\u001b[39mpyplot\u001b[39;00m \u001b[39mas\u001b[39;00m \u001b[39mplt\u001b[39;00m\n\u001b[0;32m      <a href='vscode-notebook-cell:/d%3A/bi%20project/KNN_edited%20%281%29.ipynb#Y154sZmlsZQ%3D%3D?line=3'>4</a>\u001b[0m \u001b[39m# Assuming 'knn', 'value', 'width' are defined here or elsewhere within this loop\u001b[39;00m\n\u001b[0;32m      <a href='vscode-notebook-cell:/d%3A/bi%20project/KNN_edited%20%281%29.ipynb#Y154sZmlsZQ%3D%3D?line=4'>5</a>\u001b[0m \u001b[39m# Plot decision regions for the current iteration\u001b[39;00m\n",
            "\u001b[1;31mModuleNotFoundError\u001b[0m: No module named 'mlxtend'"
          ]
        }
      ],
      "source": [
        "from mlxtend.plotting import plot_decision_regions\n",
        "import matplotlib.pyplot as plt\n",
        "\n",
        "# Assuming 'knn', 'value', 'width' are defined here or elsewhere within this loop\n",
        "# Plot decision regions for the current iteration\n",
        "plot_decision_regions(X_train.values, y_train.values, clf=knn, legend=2,\n",
        "                      filler_feature_values={2: value, 3: value, 4: value, 5: value, 6: value, 7: value},\n",
        "                      filler_feature_ranges={2: width, 3: width, 4: width, 5: width, 6: width, 7: width},\n",
        "                      X_highlight=X_test.values)\n",
        "\n",
        "# Adding axes annotations or other plotting configurations if needed\n",
        "plt.title(f'KNN with {key} Data')\n",
        "plt.show()\n"
      ]
    },
    {
      "cell_type": "markdown",
      "id": "Y3trhjG-pUgI",
      "metadata": {
        "id": "Y3trhjG-pUgI"
      },
      "source": [
        "Confusion Matrix"
      ]
    },
    {
      "cell_type": "markdown",
      "id": "llimgpmZpUc8",
      "metadata": {
        "id": "llimgpmZpUc8"
      },
      "source": [
        "![image.png](data:image/png;base64,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)"
      ]
    },
    {
      "cell_type": "code",
      "execution_count": null,
      "id": "BA9A7N1Gob9L",
      "metadata": {
        "colab": {
          "base_uri": "https://localhost:8080/",
          "height": 175
        },
        "id": "BA9A7N1Gob9L",
        "outputId": "1432bd93-ccbe-4420-f29a-56987f0885d8"
      },
      "outputs": [
        {
          "ename": "",
          "evalue": "",
          "output_type": "error",
          "traceback": [
            "\u001b[1;31mRunning cells with 'c:\\Users\\zizo\\AppData\\Local\\Programs\\Python\\Python312\\python.exe' requires the ipykernel package.\n",
            "\u001b[1;31mRun the following command to install 'ipykernel' into the Python environment. \n",
            "\u001b[1;31mCommand: 'c:/Users/zizo/AppData/Local/Programs/Python/Python312/python.exe -m pip install ipykernel -U --user --force-reinstall'"
          ]
        }
      ],
      "source": [
        "#import confusion_matrix\n",
        "from sklearn.metrics import confusion_matrix\n",
        "#let us get the predictions using the classifier we had fit above\n",
        "y_pred = knn.predict(X_test)\n",
        "confusion_matrix(y_test,y_pred)\n",
        "pd.crosstab(y_test, y_pred, rownames=['True'], colnames=['Predicted'], margins=True)"
      ]
    },
    {
      "cell_type": "code",
      "execution_count": null,
      "id": "H6pIEbinob7l",
      "metadata": {
        "colab": {
          "base_uri": "https://localhost:8080/",
          "height": 526
        },
        "id": "H6pIEbinob7l",
        "outputId": "9c779253-0982-4efb-b38b-70275caadd55"
      },
      "outputs": [
        {
          "ename": "",
          "evalue": "",
          "output_type": "error",
          "traceback": [
            "\u001b[1;31mRunning cells with 'c:\\Users\\zizo\\AppData\\Local\\Programs\\Python\\Python312\\python.exe' requires the ipykernel package.\n",
            "\u001b[1;31mRun the following command to install 'ipykernel' into the Python environment. \n",
            "\u001b[1;31mCommand: 'c:/Users/zizo/AppData/Local/Programs/Python/Python312/python.exe -m pip install ipykernel -U --user --force-reinstall'"
          ]
        }
      ],
      "source": [
        "y_pred = knn.predict(X_test)\n",
        "from sklearn import metrics\n",
        "cnf_matrix = metrics.confusion_matrix(y_test, y_pred)\n",
        "p = sns.heatmap(pd.DataFrame(cnf_matrix), annot=True, cmap=\"YlGnBu\" ,fmt='g')\n",
        "plt.title('Confusion matrix', y=1.1)\n",
        "plt.ylabel('Actual label')\n",
        "plt.xlabel('Predicted label')"
      ]
    },
    {
      "cell_type": "markdown",
      "id": "uBu53LkGqdJ8",
      "metadata": {
        "id": "uBu53LkGqdJ8"
      },
      "source": [
        "Classification Report"
      ]
    },
    {
      "cell_type": "code",
      "execution_count": null,
      "id": "w7LzrC26ob6O",
      "metadata": {
        "colab": {
          "base_uri": "https://localhost:8080/"
        },
        "id": "w7LzrC26ob6O",
        "outputId": "e0827d9e-edb0-48c3-a94e-147272f10927"
      },
      "outputs": [
        {
          "ename": "",
          "evalue": "",
          "output_type": "error",
          "traceback": [
            "\u001b[1;31mRunning cells with 'c:\\Users\\zizo\\AppData\\Local\\Programs\\Python\\Python312\\python.exe' requires the ipykernel package.\n",
            "\u001b[1;31mRun the following command to install 'ipykernel' into the Python environment. \n",
            "\u001b[1;31mCommand: 'c:/Users/zizo/AppData/Local/Programs/Python/Python312/python.exe -m pip install ipykernel -U --user --force-reinstall'"
          ]
        }
      ],
      "source": [
        "#import classification_report\n",
        "from sklearn.metrics import classification_report\n",
        "print(classification_report(y_test,y_pred))"
      ]
    },
    {
      "cell_type": "markdown",
      "id": "G-n6LRX7qqrM",
      "metadata": {
        "id": "G-n6LRX7qqrM"
      },
      "source": [
        "ROC - AUC"
      ]
    },
    {
      "cell_type": "code",
      "execution_count": null,
      "id": "wYORXnxwoby8",
      "metadata": {
        "id": "wYORXnxwoby8"
      },
      "outputs": [
        {
          "ename": "",
          "evalue": "",
          "output_type": "error",
          "traceback": [
            "\u001b[1;31mRunning cells with 'c:\\Users\\zizo\\AppData\\Local\\Programs\\Python\\Python312\\python.exe' requires the ipykernel package.\n",
            "\u001b[1;31mRun the following command to install 'ipykernel' into the Python environment. \n",
            "\u001b[1;31mCommand: 'c:/Users/zizo/AppData/Local/Programs/Python/Python312/python.exe -m pip install ipykernel -U --user --force-reinstall'"
          ]
        }
      ],
      "source": [
        "from sklearn.metrics import roc_curve\n",
        "y_pred_proba = knn.predict_proba(X_test)[:,1]\n",
        "fpr, tpr, thresholds = roc_curve(y_test, y_pred_proba)"
      ]
    },
    {
      "cell_type": "code",
      "execution_count": null,
      "id": "d6Bfhy00quQw",
      "metadata": {
        "colab": {
          "base_uri": "https://localhost:8080/",
          "height": 472
        },
        "id": "d6Bfhy00quQw",
        "outputId": "94afb53e-c5de-4622-f5e5-11518c0777ae"
      },
      "outputs": [
        {
          "ename": "",
          "evalue": "",
          "output_type": "error",
          "traceback": [
            "\u001b[1;31mRunning cells with 'c:\\Users\\zizo\\AppData\\Local\\Programs\\Python\\Python312\\python.exe' requires the ipykernel package.\n",
            "\u001b[1;31mRun the following command to install 'ipykernel' into the Python environment. \n",
            "\u001b[1;31mCommand: 'c:/Users/zizo/AppData/Local/Programs/Python/Python312/python.exe -m pip install ipykernel -U --user --force-reinstall'"
          ]
        }
      ],
      "source": [
        "plt.plot([0,1],[0,1],'k--')\n",
        "plt.plot(fpr,tpr, label='Knn')\n",
        "plt.xlabel('fpr')\n",
        "plt.ylabel('tpr')\n",
        "plt.title('Knn(n_neighbors=11) ROC curve')\n",
        "plt.show()"
      ]
    },
    {
      "cell_type": "code",
      "execution_count": null,
      "id": "fjn_clqEqxLo",
      "metadata": {
        "colab": {
          "base_uri": "https://localhost:8080/"
        },
        "id": "fjn_clqEqxLo",
        "outputId": "d651dfb9-5497-4e91-a6b4-8e0be26c0087"
      },
      "outputs": [
        {
          "ename": "",
          "evalue": "",
          "output_type": "error",
          "traceback": [
            "\u001b[1;31mRunning cells with 'c:\\Users\\zizo\\AppData\\Local\\Programs\\Python\\Python312\\python.exe' requires the ipykernel package.\n",
            "\u001b[1;31mRun the following command to install 'ipykernel' into the Python environment. \n",
            "\u001b[1;31mCommand: 'c:/Users/zizo/AppData/Local/Programs/Python/Python312/python.exe -m pip install ipykernel -U --user --force-reinstall'"
          ]
        }
      ],
      "source": [
        "#Area under ROC curve\n",
        "from sklearn.metrics import roc_auc_score\n",
        "roc_auc_score(y_test,y_pred_proba)"
      ]
    },
    {
      "cell_type": "code",
      "execution_count": 112,
      "metadata": {},
      "outputs": [
        {
          "ename": "NameError",
          "evalue": "name 'clr' is not defined",
          "output_type": "error",
          "traceback": [
            "\u001b[1;31m---------------------------------------------------------------------------\u001b[0m",
            "\u001b[1;31mNameError\u001b[0m                                 Traceback (most recent call last)",
            "\u001b[1;32md:\\bi project\\KNN_edited (1).ipynb Cell 100\u001b[0m line \u001b[0;36m2\n\u001b[0;32m      <a href='vscode-notebook-cell:/d%3A/bi%20project/KNN_edited%20%281%29.ipynb#Y201sZmlsZQ%3D%3D?line=0'>1</a>\u001b[0m \u001b[39m# Get accuracy for model\u001b[39;00m\n\u001b[1;32m----> <a href='vscode-notebook-cell:/d%3A/bi%20project/KNN_edited%20%281%29.ipynb#Y201sZmlsZQ%3D%3D?line=1'>2</a>\u001b[0m \u001b[39mprint\u001b[39m(clr\u001b[39m.\u001b[39mS\u001b[39m+\u001b[39m\u001b[39m'\u001b[39m\u001b[39mPrediction Accuracy:\u001b[39m\u001b[39m'\u001b[39m\u001b[39m+\u001b[39mclr\u001b[39m.\u001b[39mE, accuracy_score(Y_test, predictions))\n",
            "\u001b[1;31mNameError\u001b[0m: name 'clr' is not defined"
          ]
        }
      ],
      "source": [
        "# Get accuracy for model\n",
        "print(clr.S+'Prediction Accuracy:'+clr.E, accuracy_score(Y_test, predictions))"
      ]
    }
  ],
  "metadata": {
    "colab": {
      "provenance": []
    },
    "kernelspec": {
      "display_name": "Python 3 (ipykernel)",
      "language": "python",
      "name": "python3"
    },
    "language_info": {
      "codemirror_mode": {
        "name": "ipython",
        "version": 3
      },
      "file_extension": ".py",
      "mimetype": "text/x-python",
      "name": "python",
      "nbconvert_exporter": "python",
      "pygments_lexer": "ipython3",
      "version": "3.10.9"
    }
  },
  "nbformat": 4,
  "nbformat_minor": 5
}
